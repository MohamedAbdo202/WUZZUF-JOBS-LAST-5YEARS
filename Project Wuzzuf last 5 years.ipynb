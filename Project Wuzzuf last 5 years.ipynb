{
 "cells": [
  {
   "cell_type": "markdown",
   "metadata": {},
   "source": [
    "# Name:Mohamed Abdo Taha Salem\n",
    "# id:20191480305\n",
    "# e-mail:CDS.MohamedAbdo80305@alexu.edu.eg\n"
   ]
  },
  {
   "cell_type": "markdown",
   "metadata": {},
   "source": [
    "# first we import the libraries that we would use"
   ]
  },
  {
   "cell_type": "code",
   "execution_count": 57,
   "metadata": {},
   "outputs": [],
   "source": [
    "import pandas as pd\n",
    "from pandas import DataFrame\n",
    "import numpy as np\n",
    "import re\n",
    "import matplotlib.pyplot as plt\n",
    "%matplotlib inline\n",
    "import datetime as dt"
   ]
  },
  {
   "cell_type": "markdown",
   "metadata": {},
   "source": [
    "# we loading the first two csv files 2020/2021"
   ]
  },
  {
   "cell_type": "code",
   "execution_count": 58,
   "metadata": {},
   "outputs": [
    {
     "name": "stderr",
     "output_type": "stream",
     "text": [
      "b'Skipping line 665: expected 9 fields, saw 10\\nSkipping line 672: expected 9 fields, saw 11\\nSkipping line 693: expected 9 fields, saw 11\\nSkipping line 801: expected 9 fields, saw 13\\nSkipping line 836: expected 9 fields, saw 10\\nSkipping line 851: expected 9 fields, saw 10\\nSkipping line 852: expected 9 fields, saw 10\\nSkipping line 899: expected 9 fields, saw 10\\nSkipping line 972: expected 9 fields, saw 10\\nSkipping line 985: expected 9 fields, saw 10\\nSkipping line 1012: expected 9 fields, saw 10\\nSkipping line 1021: expected 9 fields, saw 11\\nSkipping line 1027: expected 9 fields, saw 10\\nSkipping line 1431: expected 9 fields, saw 10\\nSkipping line 1457: expected 9 fields, saw 10\\nSkipping line 1527: expected 9 fields, saw 10\\nSkipping line 1557: expected 9 fields, saw 10\\nSkipping line 1615: expected 9 fields, saw 10\\nSkipping line 2023: expected 9 fields, saw 10\\nSkipping line 2124: expected 9 fields, saw 10\\nSkipping line 2245: expected 9 fields, saw 15\\nSkipping line 2279: expected 9 fields, saw 11\\nSkipping line 2316: expected 9 fields, saw 10\\nSkipping line 2445: expected 9 fields, saw 11\\nSkipping line 2503: expected 9 fields, saw 10\\nSkipping line 2513: expected 9 fields, saw 10\\nSkipping line 2596: expected 9 fields, saw 11\\n'\n"
     ]
    }
   ],
   "source": [
    "data1 = pd.read_csv('wuzzaf2021.csv',error_bad_lines=False)\n",
    "data2 = pd.read_csv('wuzzaf_2020.csv')\n"
   ]
  },
  {
   "cell_type": "markdown",
   "metadata": {},
   "source": [
    "# we make a copy of data to avoid error in the original"
   ]
  },
  {
   "cell_type": "code",
   "execution_count": 59,
   "metadata": {},
   "outputs": [],
   "source": [
    "df1=data1.copy()\n",
    "df2=data2.copy()\n"
   ]
  },
  {
   "cell_type": "markdown",
   "metadata": {},
   "source": [
    "# Assessing"
   ]
  },
  {
   "cell_type": "code",
   "execution_count": 60,
   "metadata": {},
   "outputs": [
    {
     "name": "stdout",
     "output_type": "stream",
     "text": [
      "<class 'pandas.core.frame.DataFrame'>\n",
      "RangeIndex: 2571 entries, 0 to 2570\n",
      "Data columns (total 9 columns):\n",
      " #   Column          Non-Null Count  Dtype \n",
      "---  ------          --------------  ----- \n",
      " 0   URL             2571 non-null   object\n",
      " 1   job_titles      2571 non-null   object\n",
      " 2   company_names   2571 non-null   object\n",
      " 3   job_Link        2571 non-null   object\n",
      " 4   job_profile     2571 non-null   object\n",
      " 5    description    2571 non-null   object\n",
      " 6    year           2571 non-null   object\n",
      " 7   city            2571 non-null   object\n",
      " 8   country         2372 non-null   object\n",
      "dtypes: object(9)\n",
      "memory usage: 180.9+ KB\n"
     ]
    }
   ],
   "source": [
    "df1.info()"
   ]
  },
  {
   "cell_type": "code",
   "execution_count": 61,
   "metadata": {},
   "outputs": [
    {
     "name": "stdout",
     "output_type": "stream",
     "text": [
      "<class 'pandas.core.frame.DataFrame'>\n",
      "RangeIndex: 2580 entries, 0 to 2579\n",
      "Data columns (total 7 columns):\n",
      " #   Column              Non-Null Count  Dtype \n",
      "---  ------              --------------  ----- \n",
      " 0   #PAGE_URL           2580 non-null   object\n",
      " 1   title               2580 non-null   object\n",
      " 2   company-name        2580 non-null   object\n",
      " 3   job-link            2580 non-null   object\n",
      " 4   job-link_link       2580 non-null   object\n",
      " 5   short-description-  2580 non-null   object\n",
      " 6   location            2580 non-null   object\n",
      "dtypes: object(7)\n",
      "memory usage: 141.2+ KB\n"
     ]
    }
   ],
   "source": [
    "df2.info()"
   ]
  },
  {
   "cell_type": "markdown",
   "metadata": {},
   "source": [
    "# i had a problem at the scrapping in location column so i fixed it by merging  city and country"
   ]
  },
  {
   "cell_type": "code",
   "execution_count": 62,
   "metadata": {},
   "outputs": [],
   "source": [
    "df1['Location']=df1['city']+df1['country']"
   ]
  },
  {
   "cell_type": "code",
   "execution_count": 63,
   "metadata": {},
   "outputs": [],
   "source": [
    "df1 = df1.drop(columns=['city','country'])"
   ]
  },
  {
   "cell_type": "markdown",
   "metadata": {},
   "source": [
    "# rename the two files to make it easy to merge  and read"
   ]
  },
  {
   "cell_type": "code",
   "execution_count": 64,
   "metadata": {},
   "outputs": [],
   "source": [
    "df2=df2.rename(columns = {'#PAGE_URL':'URL1','title':'job_titles1','company-name': 'company_names1','job-link_link': 'job_profile1','short-description-':'description1','location':'Location','job-link':'job_Link1'})"
   ]
  },
  {
   "cell_type": "markdown",
   "metadata": {},
   "source": [
    "# i had here problem that i cant change names in the scrapping data so i used this method to change names"
   ]
  },
  {
   "cell_type": "code",
   "execution_count": 65,
   "metadata": {},
   "outputs": [],
   "source": [
    "df1.columns.values[0] = \"URL1\"\n",
    "df1.columns.values[1] = \"job_titles1\"\n",
    "df1.columns.values[2] = \"company_names1\"\n",
    "df1.columns.values[3] = \"job_Link1\"\n",
    "df1.columns.values[4] = \"job_profile1\"\n",
    "df1.columns.values[5] = \"description1\"\n",
    "df1.columns.values[6] = \"year\""
   ]
  },
  {
   "cell_type": "markdown",
   "metadata": {},
   "source": [
    "# the new columns"
   ]
  },
  {
   "cell_type": "code",
   "execution_count": 66,
   "metadata": {},
   "outputs": [
    {
     "name": "stdout",
     "output_type": "stream",
     "text": [
      "<class 'pandas.core.frame.DataFrame'>\n",
      "RangeIndex: 2571 entries, 0 to 2570\n",
      "Data columns (total 8 columns):\n",
      " #   Column          Non-Null Count  Dtype \n",
      "---  ------          --------------  ----- \n",
      " 0   URL1            2571 non-null   object\n",
      " 1   job_titles1     2571 non-null   object\n",
      " 2   company_names1  2571 non-null   object\n",
      " 3   job_Link1       2571 non-null   object\n",
      " 4   job_profile1    2571 non-null   object\n",
      " 5   description1    2571 non-null   object\n",
      " 6   year            2571 non-null   object\n",
      " 7   Location        2372 non-null   object\n",
      "dtypes: object(8)\n",
      "memory usage: 160.8+ KB\n"
     ]
    }
   ],
   "source": [
    "df1.info()"
   ]
  },
  {
   "cell_type": "code",
   "execution_count": 67,
   "metadata": {},
   "outputs": [
    {
     "name": "stdout",
     "output_type": "stream",
     "text": [
      "<class 'pandas.core.frame.DataFrame'>\n",
      "RangeIndex: 2580 entries, 0 to 2579\n",
      "Data columns (total 7 columns):\n",
      " #   Column          Non-Null Count  Dtype \n",
      "---  ------          --------------  ----- \n",
      " 0   URL1            2580 non-null   object\n",
      " 1   job_titles1     2580 non-null   object\n",
      " 2   company_names1  2580 non-null   object\n",
      " 3   job_Link1       2580 non-null   object\n",
      " 4   job_profile1    2580 non-null   object\n",
      " 5   description1    2580 non-null   object\n",
      " 6   Location        2580 non-null   object\n",
      "dtypes: object(7)\n",
      "memory usage: 141.2+ KB\n"
     ]
    }
   ],
   "source": [
    "df2.info()"
   ]
  },
  {
   "cell_type": "markdown",
   "metadata": {},
   "source": [
    "# i merge the two files  to start cleaning"
   ]
  },
  {
   "cell_type": "code",
   "execution_count": 68,
   "metadata": {},
   "outputs": [],
   "source": [
    "y=pd.concat([df1, df2], axis=0)"
   ]
  },
  {
   "cell_type": "code",
   "execution_count": 69,
   "metadata": {},
   "outputs": [
    {
     "name": "stdout",
     "output_type": "stream",
     "text": [
      "<class 'pandas.core.frame.DataFrame'>\n",
      "Int64Index: 5151 entries, 0 to 2579\n",
      "Data columns (total 8 columns):\n",
      " #   Column          Non-Null Count  Dtype \n",
      "---  ------          --------------  ----- \n",
      " 0   URL1            5151 non-null   object\n",
      " 1   job_titles1     5151 non-null   object\n",
      " 2   company_names1  5151 non-null   object\n",
      " 3   job_Link1       5151 non-null   object\n",
      " 4   job_profile1    5151 non-null   object\n",
      " 5   description1    5151 non-null   object\n",
      " 6   year            2571 non-null   object\n",
      " 7   Location        4952 non-null   object\n",
      "dtypes: object(8)\n",
      "memory usage: 362.2+ KB\n"
     ]
    }
   ],
   "source": [
    "y.info()"
   ]
  },
  {
   "cell_type": "code",
   "execution_count": 70,
   "metadata": {},
   "outputs": [
    {
     "data": {
      "text/html": [
       "<div>\n",
       "<style scoped>\n",
       "    .dataframe tbody tr th:only-of-type {\n",
       "        vertical-align: middle;\n",
       "    }\n",
       "\n",
       "    .dataframe tbody tr th {\n",
       "        vertical-align: top;\n",
       "    }\n",
       "\n",
       "    .dataframe thead th {\n",
       "        text-align: right;\n",
       "    }\n",
       "</style>\n",
       "<table border=\"1\" class=\"dataframe\">\n",
       "  <thead>\n",
       "    <tr style=\"text-align: right;\">\n",
       "      <th></th>\n",
       "      <th>URL1</th>\n",
       "      <th>job_titles1</th>\n",
       "      <th>company_names1</th>\n",
       "      <th>job_Link1</th>\n",
       "      <th>job_profile1</th>\n",
       "      <th>description1</th>\n",
       "      <th>year</th>\n",
       "      <th>Location</th>\n",
       "    </tr>\n",
       "  </thead>\n",
       "  <tbody>\n",
       "    <tr>\n",
       "      <th>0</th>\n",
       "      <td>https://wuzzuf.net/a/IT-Software-Development-J...</td>\n",
       "      <td>Business Development Specialist - Upper Egypt</td>\n",
       "      <td>golden</td>\n",
       "      <td>Business Development Specialist - Upper Egypt</td>\n",
       "      <td>https://wuzzuf.net/jobs/p/1623d22c-3de2-455a-...</td>\n",
       "      <td>Full Time · Experienced · 2+ Yrs of Exp · Bus...</td>\n",
       "      <td>2021</td>\n",
       "      <td>- Aswan Egypt</td>\n",
       "    </tr>\n",
       "    <tr>\n",
       "      <th>1</th>\n",
       "      <td>https://wuzzuf.net/a/IT-Software-Development-...</td>\n",
       "      <td>Senior/Intermediate .NET Core Developer (Remo...</td>\n",
       "      <td>Confidential</td>\n",
       "      <td>Senior/Intermediate .NET Core Developer (Remo...</td>\n",
       "      <td>https://wuzzuf.net/jobs/p/0efb55cc-3264-47b4-...</td>\n",
       "      <td>Full Time · Experienced · 4+ Yrs of Exp · Sof...</td>\n",
       "      <td>2021</td>\n",
       "      <td>- Cairo Egypt</td>\n",
       "    </tr>\n",
       "    <tr>\n",
       "      <th>2</th>\n",
       "      <td>https://wuzzuf.net/a/IT-Software-Development-...</td>\n",
       "      <td>Senior Software Developer</td>\n",
       "      <td>Bnsights</td>\n",
       "      <td>Senior Software Developer</td>\n",
       "      <td>https://wuzzuf.net/jobs/p/d76caa63-bc76-4839-...</td>\n",
       "      <td>Full Time · Experienced · 6-10 Yrs of Exp · S...</td>\n",
       "      <td>2021</td>\n",
       "      <td>- New Cairo Cairo</td>\n",
       "    </tr>\n",
       "    <tr>\n",
       "      <th>3</th>\n",
       "      <td>https://wuzzuf.net/a/IT-Software-Development-...</td>\n",
       "      <td>Software Developer / Desktop Development</td>\n",
       "      <td>ITS</td>\n",
       "      <td>Software Developer / Desktop Development</td>\n",
       "      <td>https://wuzzuf.net/jobs/p/2ffe3403-b147-4b38-...</td>\n",
       "      <td>Full Time · Entry Level · 0-2 Yrs of Exp · Co...</td>\n",
       "      <td>2021</td>\n",
       "      <td>- Nasr City Cairo</td>\n",
       "    </tr>\n",
       "    <tr>\n",
       "      <th>4</th>\n",
       "      <td>https://wuzzuf.net/a/IT-Software-Development-...</td>\n",
       "      <td>Senior Software Developer -Dynamics 365...</td>\n",
       "      <td>CrossWorkers</td>\n",
       "      <td>Senior Software Developer -Dynamics 365...</td>\n",
       "      <td>https://wuzzuf.net/jobs/p/b6ae6a6a-47b8-47f7-...</td>\n",
       "      <td>Full Time · Experienced · 4-12 Yrs of Exp · A...</td>\n",
       "      <td>2021</td>\n",
       "      <td>- New Cairo Cairo</td>\n",
       "    </tr>\n",
       "  </tbody>\n",
       "</table>\n",
       "</div>"
      ],
      "text/plain": [
       "                                                URL1  \\\n",
       "0  https://wuzzuf.net/a/IT-Software-Development-J...   \n",
       "1   https://wuzzuf.net/a/IT-Software-Development-...   \n",
       "2   https://wuzzuf.net/a/IT-Software-Development-...   \n",
       "3   https://wuzzuf.net/a/IT-Software-Development-...   \n",
       "4   https://wuzzuf.net/a/IT-Software-Development-...   \n",
       "\n",
       "                                         job_titles1 company_names1  \\\n",
       "0      Business Development Specialist - Upper Egypt         golden   \n",
       "1   Senior/Intermediate .NET Core Developer (Remo...   Confidential   \n",
       "2                          Senior Software Developer       Bnsights   \n",
       "3           Software Developer / Desktop Development            ITS   \n",
       "4         Senior Software Developer -Dynamics 365...   CrossWorkers   \n",
       "\n",
       "                                           job_Link1  \\\n",
       "0      Business Development Specialist - Upper Egypt   \n",
       "1   Senior/Intermediate .NET Core Developer (Remo...   \n",
       "2                          Senior Software Developer   \n",
       "3           Software Developer / Desktop Development   \n",
       "4         Senior Software Developer -Dynamics 365...   \n",
       "\n",
       "                                        job_profile1  \\\n",
       "0   https://wuzzuf.net/jobs/p/1623d22c-3de2-455a-...   \n",
       "1   https://wuzzuf.net/jobs/p/0efb55cc-3264-47b4-...   \n",
       "2   https://wuzzuf.net/jobs/p/d76caa63-bc76-4839-...   \n",
       "3   https://wuzzuf.net/jobs/p/2ffe3403-b147-4b38-...   \n",
       "4   https://wuzzuf.net/jobs/p/b6ae6a6a-47b8-47f7-...   \n",
       "\n",
       "                                        description1   year  \\\n",
       "0   Full Time · Experienced · 2+ Yrs of Exp · Bus...   2021   \n",
       "1   Full Time · Experienced · 4+ Yrs of Exp · Sof...   2021   \n",
       "2   Full Time · Experienced · 6-10 Yrs of Exp · S...   2021   \n",
       "3   Full Time · Entry Level · 0-2 Yrs of Exp · Co...   2021   \n",
       "4   Full Time · Experienced · 4-12 Yrs of Exp · A...   2021   \n",
       "\n",
       "             Location  \n",
       "0       - Aswan Egypt  \n",
       "1       - Cairo Egypt  \n",
       "2   - New Cairo Cairo  \n",
       "3   - Nasr City Cairo  \n",
       "4   - New Cairo Cairo  "
      ]
     },
     "execution_count": 70,
     "metadata": {},
     "output_type": "execute_result"
    }
   ],
   "source": [
    "y.head(5)"
   ]
  },
  {
   "cell_type": "markdown",
   "metadata": {},
   "source": [
    "# the merge succed so i would do a copy file"
   ]
  },
  {
   "cell_type": "code",
   "execution_count": 71,
   "metadata": {},
   "outputs": [],
   "source": [
    "df=y.copy()"
   ]
  },
  {
   "cell_type": "markdown",
   "metadata": {},
   "source": [
    "# i would drop un important columns that i wouldnt use"
   ]
  },
  {
   "cell_type": "code",
   "execution_count": 72,
   "metadata": {},
   "outputs": [],
   "source": [
    "df= df.drop(['URL1','job_Link1'], axis = 1)"
   ]
  },
  {
   "cell_type": "code",
   "execution_count": 73,
   "metadata": {},
   "outputs": [
    {
     "data": {
      "text/html": [
       "<div>\n",
       "<style scoped>\n",
       "    .dataframe tbody tr th:only-of-type {\n",
       "        vertical-align: middle;\n",
       "    }\n",
       "\n",
       "    .dataframe tbody tr th {\n",
       "        vertical-align: top;\n",
       "    }\n",
       "\n",
       "    .dataframe thead th {\n",
       "        text-align: right;\n",
       "    }\n",
       "</style>\n",
       "<table border=\"1\" class=\"dataframe\">\n",
       "  <thead>\n",
       "    <tr style=\"text-align: right;\">\n",
       "      <th></th>\n",
       "      <th>job_titles1</th>\n",
       "      <th>company_names1</th>\n",
       "      <th>job_profile1</th>\n",
       "      <th>description1</th>\n",
       "      <th>year</th>\n",
       "      <th>Location</th>\n",
       "    </tr>\n",
       "  </thead>\n",
       "  <tbody>\n",
       "    <tr>\n",
       "      <th>0</th>\n",
       "      <td>Business Development Specialist - Upper Egypt</td>\n",
       "      <td>golden</td>\n",
       "      <td>https://wuzzuf.net/jobs/p/1623d22c-3de2-455a-...</td>\n",
       "      <td>Full Time · Experienced · 2+ Yrs of Exp · Bus...</td>\n",
       "      <td>2021</td>\n",
       "      <td>- Aswan Egypt</td>\n",
       "    </tr>\n",
       "    <tr>\n",
       "      <th>1</th>\n",
       "      <td>Senior/Intermediate .NET Core Developer (Remo...</td>\n",
       "      <td>Confidential</td>\n",
       "      <td>https://wuzzuf.net/jobs/p/0efb55cc-3264-47b4-...</td>\n",
       "      <td>Full Time · Experienced · 4+ Yrs of Exp · Sof...</td>\n",
       "      <td>2021</td>\n",
       "      <td>- Cairo Egypt</td>\n",
       "    </tr>\n",
       "    <tr>\n",
       "      <th>2</th>\n",
       "      <td>Senior Software Developer</td>\n",
       "      <td>Bnsights</td>\n",
       "      <td>https://wuzzuf.net/jobs/p/d76caa63-bc76-4839-...</td>\n",
       "      <td>Full Time · Experienced · 6-10 Yrs of Exp · S...</td>\n",
       "      <td>2021</td>\n",
       "      <td>- New Cairo Cairo</td>\n",
       "    </tr>\n",
       "    <tr>\n",
       "      <th>3</th>\n",
       "      <td>Software Developer / Desktop Development</td>\n",
       "      <td>ITS</td>\n",
       "      <td>https://wuzzuf.net/jobs/p/2ffe3403-b147-4b38-...</td>\n",
       "      <td>Full Time · Entry Level · 0-2 Yrs of Exp · Co...</td>\n",
       "      <td>2021</td>\n",
       "      <td>- Nasr City Cairo</td>\n",
       "    </tr>\n",
       "    <tr>\n",
       "      <th>4</th>\n",
       "      <td>Senior Software Developer -Dynamics 365...</td>\n",
       "      <td>CrossWorkers</td>\n",
       "      <td>https://wuzzuf.net/jobs/p/b6ae6a6a-47b8-47f7-...</td>\n",
       "      <td>Full Time · Experienced · 4-12 Yrs of Exp · A...</td>\n",
       "      <td>2021</td>\n",
       "      <td>- New Cairo Cairo</td>\n",
       "    </tr>\n",
       "  </tbody>\n",
       "</table>\n",
       "</div>"
      ],
      "text/plain": [
       "                                         job_titles1 company_names1  \\\n",
       "0      Business Development Specialist - Upper Egypt         golden   \n",
       "1   Senior/Intermediate .NET Core Developer (Remo...   Confidential   \n",
       "2                          Senior Software Developer       Bnsights   \n",
       "3           Software Developer / Desktop Development            ITS   \n",
       "4         Senior Software Developer -Dynamics 365...   CrossWorkers   \n",
       "\n",
       "                                        job_profile1  \\\n",
       "0   https://wuzzuf.net/jobs/p/1623d22c-3de2-455a-...   \n",
       "1   https://wuzzuf.net/jobs/p/0efb55cc-3264-47b4-...   \n",
       "2   https://wuzzuf.net/jobs/p/d76caa63-bc76-4839-...   \n",
       "3   https://wuzzuf.net/jobs/p/2ffe3403-b147-4b38-...   \n",
       "4   https://wuzzuf.net/jobs/p/b6ae6a6a-47b8-47f7-...   \n",
       "\n",
       "                                        description1   year  \\\n",
       "0   Full Time · Experienced · 2+ Yrs of Exp · Bus...   2021   \n",
       "1   Full Time · Experienced · 4+ Yrs of Exp · Sof...   2021   \n",
       "2   Full Time · Experienced · 6-10 Yrs of Exp · S...   2021   \n",
       "3   Full Time · Entry Level · 0-2 Yrs of Exp · Co...   2021   \n",
       "4   Full Time · Experienced · 4-12 Yrs of Exp · A...   2021   \n",
       "\n",
       "             Location  \n",
       "0       - Aswan Egypt  \n",
       "1       - Cairo Egypt  \n",
       "2   - New Cairo Cairo  \n",
       "3   - Nasr City Cairo  \n",
       "4   - New Cairo Cairo  "
      ]
     },
     "execution_count": 73,
     "metadata": {},
     "output_type": "execute_result"
    }
   ],
   "source": [
    "df.head(5)"
   ]
  },
  {
   "cell_type": "code",
   "execution_count": 74,
   "metadata": {},
   "outputs": [
    {
     "name": "stdout",
     "output_type": "stream",
     "text": [
      "<class 'pandas.core.frame.DataFrame'>\n",
      "Int64Index: 5151 entries, 0 to 2579\n",
      "Data columns (total 6 columns):\n",
      " #   Column          Non-Null Count  Dtype \n",
      "---  ------          --------------  ----- \n",
      " 0   job_titles1     5151 non-null   object\n",
      " 1   company_names1  5151 non-null   object\n",
      " 2   job_profile1    5151 non-null   object\n",
      " 3   description1    5151 non-null   object\n",
      " 4   year            2571 non-null   object\n",
      " 5   Location        4952 non-null   object\n",
      "dtypes: object(6)\n",
      "memory usage: 281.7+ KB\n"
     ]
    }
   ],
   "source": [
    "df.info()\n"
   ]
  },
  {
   "cell_type": "markdown",
   "metadata": {},
   "source": [
    "# searching about the null values"
   ]
  },
  {
   "cell_type": "code",
   "execution_count": 75,
   "metadata": {},
   "outputs": [
    {
     "data": {
      "text/plain": [
       "job_titles1          0\n",
       "company_names1       0\n",
       "job_profile1         0\n",
       "description1         0\n",
       "year              2580\n",
       "Location           199\n",
       "dtype: int64"
      ]
     },
     "execution_count": 75,
     "metadata": {},
     "output_type": "execute_result"
    }
   ],
   "source": [
    "df.isnull().sum()\n"
   ]
  },
  {
   "cell_type": "markdown",
   "metadata": {},
   "source": [
    "# i found small null values at location column so i fixed it by change non values to un know"
   ]
  },
  {
   "cell_type": "code",
   "execution_count": 76,
   "metadata": {},
   "outputs": [],
   "source": [
    "df['Location'].replace(' ', np.nan, inplace=True) "
   ]
  },
  {
   "cell_type": "code",
   "execution_count": 77,
   "metadata": {},
   "outputs": [],
   "source": [
    "df[\"Location\"].fillna(\"un known\",inplace=True)\n"
   ]
  },
  {
   "cell_type": "markdown",
   "metadata": {},
   "source": [
    "# at the second file wuzzuf 2020 there isnt column for year so i  merged the two data and replace non value by 2020"
   ]
  },
  {
   "cell_type": "code",
   "execution_count": 78,
   "metadata": {},
   "outputs": [],
   "source": [
    "df['year'].replace(' ', np.nan, inplace=True) "
   ]
  },
  {
   "cell_type": "code",
   "execution_count": 79,
   "metadata": {},
   "outputs": [],
   "source": [
    "df[\"year\"].fillna(2020,inplace=True)\n"
   ]
  },
  {
   "cell_type": "markdown",
   "metadata": {},
   "source": [
    "# i search again about non value but it fixed"
   ]
  },
  {
   "cell_type": "code",
   "execution_count": 80,
   "metadata": {},
   "outputs": [
    {
     "data": {
      "text/plain": [
       "job_titles1       0\n",
       "company_names1    0\n",
       "job_profile1      0\n",
       "description1      0\n",
       "year              0\n",
       "Location          0\n",
       "dtype: int64"
      ]
     },
     "execution_count": 80,
     "metadata": {},
     "output_type": "execute_result"
    }
   ],
   "source": [
    "df.isnull().sum()\n"
   ]
  },
  {
   "cell_type": "markdown",
   "metadata": {},
   "source": [
    "# here i create a list and I started extracting the experience level from description column"
   ]
  },
  {
   "cell_type": "code",
   "execution_count": 81,
   "metadata": {},
   "outputs": [],
   "source": [
    " Description_Data=df.description1\n",
    "Level_list=[]\n",
    "for Temporary_variable in Description_Data:\n",
    "    if('Entry Level' in Temporary_variable):\n",
    "        Level_list.append('Entry Level')\n",
    "    elif('Experienced' in Temporary_variable):\n",
    "        Level_list.append('Experienced')\n",
    "    elif('Manager'or 'Senior Management'in lev):\n",
    "        Level_list.append('Manager')\n",
    "    elif('Internship'in Temporary_variable):\n",
    "        Level_list.append('Internship')\n",
    "    else:\n",
    "        Level_list.append(Temporary_variable) "
   ]
  },
  {
   "cell_type": "markdown",
   "metadata": {},
   "source": [
    "# i choose 5 levels"
   ]
  },
  {
   "cell_type": "code",
   "execution_count": 82,
   "metadata": {},
   "outputs": [
    {
     "data": {
      "text/plain": [
       "['Experienced', 'Experienced', 'Experienced', 'Entry Level', 'Experienced']"
      ]
     },
     "execution_count": 82,
     "metadata": {},
     "output_type": "execute_result"
    }
   ],
   "source": [
    "Level_list[:5]\n"
   ]
  },
  {
   "cell_type": "markdown",
   "metadata": {},
   "source": [
    "# i check the length of the list  and data to search about non values but its good"
   ]
  },
  {
   "cell_type": "code",
   "execution_count": 83,
   "metadata": {},
   "outputs": [
    {
     "data": {
      "text/plain": [
       "5151"
      ]
     },
     "execution_count": 83,
     "metadata": {},
     "output_type": "execute_result"
    }
   ],
   "source": [
    "len(Level_list)\n"
   ]
  },
  {
   "cell_type": "code",
   "execution_count": 84,
   "metadata": {},
   "outputs": [
    {
     "data": {
      "text/plain": [
       "5151"
      ]
     },
     "execution_count": 84,
     "metadata": {},
     "output_type": "execute_result"
    }
   ],
   "source": [
    "len(df)\n"
   ]
  },
  {
   "cell_type": "markdown",
   "metadata": {},
   "source": [
    "# here i create new column to but the data of level"
   ]
  },
  {
   "cell_type": "code",
   "execution_count": 85,
   "metadata": {},
   "outputs": [
    {
     "name": "stdout",
     "output_type": "stream",
     "text": [
      "            Level\n",
      "0     Experienced\n",
      "1     Experienced\n",
      "2     Experienced\n",
      "3     Entry Level\n",
      "4     Experienced\n",
      "...           ...\n",
      "5146  Experienced\n",
      "5147  Experienced\n",
      "5148  Experienced\n",
      "5149      Manager\n",
      "5150  Experienced\n",
      "\n",
      "[5151 rows x 1 columns]\n"
     ]
    }
   ],
   "source": [
    "z= DataFrame (Level_list,columns=['Level'])\n",
    "print (z)"
   ]
  },
  {
   "cell_type": "code",
   "execution_count": 86,
   "metadata": {},
   "outputs": [],
   "source": [
    "df['Level']=Level_list\n"
   ]
  },
  {
   "cell_type": "code",
   "execution_count": 87,
   "metadata": {},
   "outputs": [
    {
     "data": {
      "text/html": [
       "<div>\n",
       "<style scoped>\n",
       "    .dataframe tbody tr th:only-of-type {\n",
       "        vertical-align: middle;\n",
       "    }\n",
       "\n",
       "    .dataframe tbody tr th {\n",
       "        vertical-align: top;\n",
       "    }\n",
       "\n",
       "    .dataframe thead th {\n",
       "        text-align: right;\n",
       "    }\n",
       "</style>\n",
       "<table border=\"1\" class=\"dataframe\">\n",
       "  <thead>\n",
       "    <tr style=\"text-align: right;\">\n",
       "      <th></th>\n",
       "      <th>job_titles1</th>\n",
       "      <th>company_names1</th>\n",
       "      <th>job_profile1</th>\n",
       "      <th>description1</th>\n",
       "      <th>year</th>\n",
       "      <th>Location</th>\n",
       "      <th>Level</th>\n",
       "    </tr>\n",
       "  </thead>\n",
       "  <tbody>\n",
       "    <tr>\n",
       "      <th>0</th>\n",
       "      <td>Business Development Specialist - Upper Egypt</td>\n",
       "      <td>golden</td>\n",
       "      <td>https://wuzzuf.net/jobs/p/1623d22c-3de2-455a-...</td>\n",
       "      <td>Full Time · Experienced · 2+ Yrs of Exp · Bus...</td>\n",
       "      <td>2021</td>\n",
       "      <td>- Aswan Egypt</td>\n",
       "      <td>Experienced</td>\n",
       "    </tr>\n",
       "    <tr>\n",
       "      <th>1</th>\n",
       "      <td>Senior/Intermediate .NET Core Developer (Remo...</td>\n",
       "      <td>Confidential</td>\n",
       "      <td>https://wuzzuf.net/jobs/p/0efb55cc-3264-47b4-...</td>\n",
       "      <td>Full Time · Experienced · 4+ Yrs of Exp · Sof...</td>\n",
       "      <td>2021</td>\n",
       "      <td>- Cairo Egypt</td>\n",
       "      <td>Experienced</td>\n",
       "    </tr>\n",
       "    <tr>\n",
       "      <th>2</th>\n",
       "      <td>Senior Software Developer</td>\n",
       "      <td>Bnsights</td>\n",
       "      <td>https://wuzzuf.net/jobs/p/d76caa63-bc76-4839-...</td>\n",
       "      <td>Full Time · Experienced · 6-10 Yrs of Exp · S...</td>\n",
       "      <td>2021</td>\n",
       "      <td>- New Cairo Cairo</td>\n",
       "      <td>Experienced</td>\n",
       "    </tr>\n",
       "    <tr>\n",
       "      <th>3</th>\n",
       "      <td>Software Developer / Desktop Development</td>\n",
       "      <td>ITS</td>\n",
       "      <td>https://wuzzuf.net/jobs/p/2ffe3403-b147-4b38-...</td>\n",
       "      <td>Full Time · Entry Level · 0-2 Yrs of Exp · Co...</td>\n",
       "      <td>2021</td>\n",
       "      <td>- Nasr City Cairo</td>\n",
       "      <td>Entry Level</td>\n",
       "    </tr>\n",
       "    <tr>\n",
       "      <th>4</th>\n",
       "      <td>Senior Software Developer -Dynamics 365...</td>\n",
       "      <td>CrossWorkers</td>\n",
       "      <td>https://wuzzuf.net/jobs/p/b6ae6a6a-47b8-47f7-...</td>\n",
       "      <td>Full Time · Experienced · 4-12 Yrs of Exp · A...</td>\n",
       "      <td>2021</td>\n",
       "      <td>- New Cairo Cairo</td>\n",
       "      <td>Experienced</td>\n",
       "    </tr>\n",
       "    <tr>\n",
       "      <th>5</th>\n",
       "      <td>Senior Software Developer - Java</td>\n",
       "      <td>CrossWorkers</td>\n",
       "      <td>https://wuzzuf.net/jobs/p/2e2c1f50-862c-41d9-...</td>\n",
       "      <td>Full Time · Experienced · 4+ Yrs of Exp · Inf...</td>\n",
       "      <td>2021</td>\n",
       "      <td>- New Cairo Cairo</td>\n",
       "      <td>Experienced</td>\n",
       "    </tr>\n",
       "    <tr>\n",
       "      <th>6</th>\n",
       "      <td>Vodafone Egypt Customer Care Advisor</td>\n",
       "      <td>Vodafone Egypt</td>\n",
       "      <td>https://wuzzuf.net/jobs/p/f396ac99-f24e-4d88-...</td>\n",
       "      <td>Full Time · Entry Level · 0-3 Yrs of Exp · Ad...</td>\n",
       "      <td>2021</td>\n",
       "      <td>- Maadi Cairo</td>\n",
       "      <td>Entry Level</td>\n",
       "    </tr>\n",
       "    <tr>\n",
       "      <th>7</th>\n",
       "      <td>Software Developer - As/400 Developer</td>\n",
       "      <td>Target Recruitment  &amp; HR Solutions</td>\n",
       "      <td>https://wuzzuf.net/jobs/p/9aa73514-5bc1-49e1-...</td>\n",
       "      <td>Full Time · Experienced · 5-10 Yrs of Exp · S...</td>\n",
       "      <td>2021</td>\n",
       "      <td>- Cairo Egypt</td>\n",
       "      <td>Experienced</td>\n",
       "    </tr>\n",
       "    <tr>\n",
       "      <th>8</th>\n",
       "      <td>IT Developer</td>\n",
       "      <td>Confidential</td>\n",
       "      <td>https://wuzzuf.net/jobs/p/f84fc572-b364-491a-...</td>\n",
       "      <td>Full Time · Experienced · 2-3 Yrs of Exp · Co...</td>\n",
       "      <td>2021</td>\n",
       "      <td>- New Cairo Cairo</td>\n",
       "      <td>Experienced</td>\n",
       "    </tr>\n",
       "    <tr>\n",
       "      <th>9</th>\n",
       "      <td>Software Developer (AWS Serverless Experience)</td>\n",
       "      <td>FlairsTech</td>\n",
       "      <td>https://wuzzuf.net/jobs/p/24ca1fdc-93d5-40e1-...</td>\n",
       "      <td>Full Time · Entry Level · 1-5 Yrs of Exp · AW...</td>\n",
       "      <td>- Maadi</td>\n",
       "      <td>un known</td>\n",
       "      <td>Entry Level</td>\n",
       "    </tr>\n",
       "  </tbody>\n",
       "</table>\n",
       "</div>"
      ],
      "text/plain": [
       "                                         job_titles1  \\\n",
       "0      Business Development Specialist - Upper Egypt   \n",
       "1   Senior/Intermediate .NET Core Developer (Remo...   \n",
       "2                          Senior Software Developer   \n",
       "3           Software Developer / Desktop Development   \n",
       "4         Senior Software Developer -Dynamics 365...   \n",
       "5                   Senior Software Developer - Java   \n",
       "6               Vodafone Egypt Customer Care Advisor   \n",
       "7              Software Developer - As/400 Developer   \n",
       "8                                       IT Developer   \n",
       "9     Software Developer (AWS Serverless Experience)   \n",
       "\n",
       "                        company_names1  \\\n",
       "0                               golden   \n",
       "1                         Confidential   \n",
       "2                             Bnsights   \n",
       "3                                  ITS   \n",
       "4                         CrossWorkers   \n",
       "5                         CrossWorkers   \n",
       "6                       Vodafone Egypt   \n",
       "7   Target Recruitment  & HR Solutions   \n",
       "8                         Confidential   \n",
       "9                           FlairsTech   \n",
       "\n",
       "                                        job_profile1  \\\n",
       "0   https://wuzzuf.net/jobs/p/1623d22c-3de2-455a-...   \n",
       "1   https://wuzzuf.net/jobs/p/0efb55cc-3264-47b4-...   \n",
       "2   https://wuzzuf.net/jobs/p/d76caa63-bc76-4839-...   \n",
       "3   https://wuzzuf.net/jobs/p/2ffe3403-b147-4b38-...   \n",
       "4   https://wuzzuf.net/jobs/p/b6ae6a6a-47b8-47f7-...   \n",
       "5   https://wuzzuf.net/jobs/p/2e2c1f50-862c-41d9-...   \n",
       "6   https://wuzzuf.net/jobs/p/f396ac99-f24e-4d88-...   \n",
       "7   https://wuzzuf.net/jobs/p/9aa73514-5bc1-49e1-...   \n",
       "8   https://wuzzuf.net/jobs/p/f84fc572-b364-491a-...   \n",
       "9   https://wuzzuf.net/jobs/p/24ca1fdc-93d5-40e1-...   \n",
       "\n",
       "                                        description1      year  \\\n",
       "0   Full Time · Experienced · 2+ Yrs of Exp · Bus...      2021   \n",
       "1   Full Time · Experienced · 4+ Yrs of Exp · Sof...      2021   \n",
       "2   Full Time · Experienced · 6-10 Yrs of Exp · S...      2021   \n",
       "3   Full Time · Entry Level · 0-2 Yrs of Exp · Co...      2021   \n",
       "4   Full Time · Experienced · 4-12 Yrs of Exp · A...      2021   \n",
       "5   Full Time · Experienced · 4+ Yrs of Exp · Inf...      2021   \n",
       "6   Full Time · Entry Level · 0-3 Yrs of Exp · Ad...      2021   \n",
       "7   Full Time · Experienced · 5-10 Yrs of Exp · S...      2021   \n",
       "8   Full Time · Experienced · 2-3 Yrs of Exp · Co...      2021   \n",
       "9   Full Time · Entry Level · 1-5 Yrs of Exp · AW...   - Maadi   \n",
       "\n",
       "             Location        Level  \n",
       "0       - Aswan Egypt  Experienced  \n",
       "1       - Cairo Egypt  Experienced  \n",
       "2   - New Cairo Cairo  Experienced  \n",
       "3   - Nasr City Cairo  Entry Level  \n",
       "4   - New Cairo Cairo  Experienced  \n",
       "5   - New Cairo Cairo  Experienced  \n",
       "6       - Maadi Cairo  Entry Level  \n",
       "7       - Cairo Egypt  Experienced  \n",
       "8   - New Cairo Cairo  Experienced  \n",
       "9            un known  Entry Level  "
      ]
     },
     "execution_count": 87,
     "metadata": {},
     "output_type": "execute_result"
    }
   ],
   "source": [
    "df.head(10)"
   ]
  },
  {
   "cell_type": "code",
   "execution_count": 88,
   "metadata": {},
   "outputs": [],
   "source": [
    "x=df.job_titles1"
   ]
  },
  {
   "cell_type": "markdown",
   "metadata": {},
   "source": [
    "# here i Filter job titles1 into categories"
   ]
  },
  {
   "cell_type": "code",
   "execution_count": 89,
   "metadata": {},
   "outputs": [],
   "source": [
    "Group_list=[]\n",
    "for temp_jobtitle in x:\n",
    "    if(\"IT\" in temp_jobtitle):\n",
    "        Group_list.append('IT Category')\n",
    "    elif('Software'or \"Full Stack\"or\"Developer\"or\"End\"or\"end\" in temp_jobtitle):\n",
    "        Group_list.append('Software Engneering ')\n",
    "    else:\n",
    "        Group_list.append(x)"
   ]
  },
  {
   "cell_type": "code",
   "execution_count": 90,
   "metadata": {},
   "outputs": [
    {
     "data": {
      "text/plain": [
       "5151"
      ]
     },
     "execution_count": 90,
     "metadata": {},
     "output_type": "execute_result"
    }
   ],
   "source": [
    "df['StandardJobTitle']=Group_list\n",
    "len(Group_list)"
   ]
  },
  {
   "cell_type": "markdown",
   "metadata": {},
   "source": [
    "# i tested and there isnt any non values"
   ]
  },
  {
   "cell_type": "code",
   "execution_count": 91,
   "metadata": {},
   "outputs": [
    {
     "data": {
      "text/plain": [
       "0       Software Engneering \n",
       "1       Software Engneering \n",
       "2       Software Engneering \n",
       "3       Software Engneering \n",
       "4       Software Engneering \n",
       "                ...         \n",
       "2575    Software Engneering \n",
       "2576    Software Engneering \n",
       "2577    Software Engneering \n",
       "2578    Software Engneering \n",
       "2579    Software Engneering \n",
       "Name: StandardJobTitle, Length: 5151, dtype: object"
      ]
     },
     "execution_count": 91,
     "metadata": {},
     "output_type": "execute_result"
    }
   ],
   "source": [
    "df.StandardJobTitle"
   ]
  },
  {
   "cell_type": "markdown",
   "metadata": {},
   "source": [
    "# Here i extract the experience years from the description in new column"
   ]
  },
  {
   "cell_type": "code",
   "execution_count": 92,
   "metadata": {},
   "outputs": [],
   "source": [
    "x=df.description1.str.extract('(\\d+)')\n",
    "df['YearsOfExperience']=x\n"
   ]
  },
  {
   "cell_type": "code",
   "execution_count": 93,
   "metadata": {},
   "outputs": [
    {
     "name": "stdout",
     "output_type": "stream",
     "text": [
      "<class 'pandas.core.frame.DataFrame'>\n",
      "Int64Index: 5151 entries, 0 to 2579\n",
      "Data columns (total 9 columns):\n",
      " #   Column             Non-Null Count  Dtype \n",
      "---  ------             --------------  ----- \n",
      " 0   job_titles1        5151 non-null   object\n",
      " 1   company_names1     5151 non-null   object\n",
      " 2   job_profile1       5151 non-null   object\n",
      " 3   description1       5151 non-null   object\n",
      " 4   year               5151 non-null   object\n",
      " 5   Location           5151 non-null   object\n",
      " 6   Level              5151 non-null   object\n",
      " 7   StandardJobTitle   5151 non-null   object\n",
      " 8   YearsOfExperience  5149 non-null   object\n",
      "dtypes: object(9)\n",
      "memory usage: 402.4+ KB\n"
     ]
    }
   ],
   "source": [
    "df.info()"
   ]
  },
  {
   "cell_type": "markdown",
   "metadata": {},
   "source": [
    "# i found two non values so  i dropped the two rows"
   ]
  },
  {
   "cell_type": "code",
   "execution_count": 94,
   "metadata": {},
   "outputs": [],
   "source": [
    "df.dropna(inplace=True)"
   ]
  },
  {
   "cell_type": "code",
   "execution_count": 95,
   "metadata": {
    "scrolled": true
   },
   "outputs": [
    {
     "name": "stdout",
     "output_type": "stream",
     "text": [
      "<class 'pandas.core.frame.DataFrame'>\n",
      "Int64Index: 5149 entries, 0 to 2579\n",
      "Data columns (total 9 columns):\n",
      " #   Column             Non-Null Count  Dtype \n",
      "---  ------             --------------  ----- \n",
      " 0   job_titles1        5149 non-null   object\n",
      " 1   company_names1     5149 non-null   object\n",
      " 2   job_profile1       5149 non-null   object\n",
      " 3   description1       5149 non-null   object\n",
      " 4   year               5149 non-null   object\n",
      " 5   Location           5149 non-null   object\n",
      " 6   Level              5149 non-null   object\n",
      " 7   StandardJobTitle   5149 non-null   object\n",
      " 8   YearsOfExperience  5149 non-null   object\n",
      "dtypes: object(9)\n",
      "memory usage: 402.3+ KB\n"
     ]
    }
   ],
   "source": [
    "df.info()"
   ]
  },
  {
   "cell_type": "markdown",
   "metadata": {},
   "source": [
    "# i would drop some columns after i had columns from the descripotin and found that\n",
    "# the other two columns wouldnt be useful in the third dataset"
   ]
  },
  {
   "cell_type": "code",
   "execution_count": 96,
   "metadata": {},
   "outputs": [],
   "source": [
    "df= df.drop(['company_names1','job_profile1','description1'], axis = 1)"
   ]
  },
  {
   "cell_type": "code",
   "execution_count": 97,
   "metadata": {},
   "outputs": [
    {
     "name": "stdout",
     "output_type": "stream",
     "text": [
      "<class 'pandas.core.frame.DataFrame'>\n",
      "Int64Index: 5149 entries, 0 to 2579\n",
      "Data columns (total 6 columns):\n",
      " #   Column             Non-Null Count  Dtype \n",
      "---  ------             --------------  ----- \n",
      " 0   job_titles1        5149 non-null   object\n",
      " 1   year               5149 non-null   object\n",
      " 2   Location           5149 non-null   object\n",
      " 3   Level              5149 non-null   object\n",
      " 4   StandardJobTitle   5149 non-null   object\n",
      " 5   YearsOfExperience  5149 non-null   object\n",
      "dtypes: object(6)\n",
      "memory usage: 281.6+ KB\n"
     ]
    }
   ],
   "source": [
    "df.info()"
   ]
  },
  {
   "cell_type": "code",
   "execution_count": 98,
   "metadata": {},
   "outputs": [
    {
     "data": {
      "text/html": [
       "<div>\n",
       "<style scoped>\n",
       "    .dataframe tbody tr th:only-of-type {\n",
       "        vertical-align: middle;\n",
       "    }\n",
       "\n",
       "    .dataframe tbody tr th {\n",
       "        vertical-align: top;\n",
       "    }\n",
       "\n",
       "    .dataframe thead th {\n",
       "        text-align: right;\n",
       "    }\n",
       "</style>\n",
       "<table border=\"1\" class=\"dataframe\">\n",
       "  <thead>\n",
       "    <tr style=\"text-align: right;\">\n",
       "      <th></th>\n",
       "      <th>job_titles1</th>\n",
       "      <th>year</th>\n",
       "      <th>Location</th>\n",
       "      <th>Level</th>\n",
       "      <th>StandardJobTitle</th>\n",
       "      <th>YearsOfExperience</th>\n",
       "    </tr>\n",
       "  </thead>\n",
       "  <tbody>\n",
       "    <tr>\n",
       "      <th>0</th>\n",
       "      <td>Business Development Specialist - Upper Egypt</td>\n",
       "      <td>2021</td>\n",
       "      <td>- Aswan Egypt</td>\n",
       "      <td>Experienced</td>\n",
       "      <td>Software Engneering</td>\n",
       "      <td>2</td>\n",
       "    </tr>\n",
       "    <tr>\n",
       "      <th>1</th>\n",
       "      <td>Senior/Intermediate .NET Core Developer (Remo...</td>\n",
       "      <td>2021</td>\n",
       "      <td>- Cairo Egypt</td>\n",
       "      <td>Experienced</td>\n",
       "      <td>Software Engneering</td>\n",
       "      <td>4</td>\n",
       "    </tr>\n",
       "    <tr>\n",
       "      <th>2</th>\n",
       "      <td>Senior Software Developer</td>\n",
       "      <td>2021</td>\n",
       "      <td>- New Cairo Cairo</td>\n",
       "      <td>Experienced</td>\n",
       "      <td>Software Engneering</td>\n",
       "      <td>6</td>\n",
       "    </tr>\n",
       "    <tr>\n",
       "      <th>3</th>\n",
       "      <td>Software Developer / Desktop Development</td>\n",
       "      <td>2021</td>\n",
       "      <td>- Nasr City Cairo</td>\n",
       "      <td>Entry Level</td>\n",
       "      <td>Software Engneering</td>\n",
       "      <td>0</td>\n",
       "    </tr>\n",
       "    <tr>\n",
       "      <th>4</th>\n",
       "      <td>Senior Software Developer -Dynamics 365...</td>\n",
       "      <td>2021</td>\n",
       "      <td>- New Cairo Cairo</td>\n",
       "      <td>Experienced</td>\n",
       "      <td>Software Engneering</td>\n",
       "      <td>4</td>\n",
       "    </tr>\n",
       "    <tr>\n",
       "      <th>5</th>\n",
       "      <td>Senior Software Developer - Java</td>\n",
       "      <td>2021</td>\n",
       "      <td>- New Cairo Cairo</td>\n",
       "      <td>Experienced</td>\n",
       "      <td>Software Engneering</td>\n",
       "      <td>4</td>\n",
       "    </tr>\n",
       "    <tr>\n",
       "      <th>6</th>\n",
       "      <td>Vodafone Egypt Customer Care Advisor</td>\n",
       "      <td>2021</td>\n",
       "      <td>- Maadi Cairo</td>\n",
       "      <td>Entry Level</td>\n",
       "      <td>Software Engneering</td>\n",
       "      <td>0</td>\n",
       "    </tr>\n",
       "    <tr>\n",
       "      <th>7</th>\n",
       "      <td>Software Developer - As/400 Developer</td>\n",
       "      <td>2021</td>\n",
       "      <td>- Cairo Egypt</td>\n",
       "      <td>Experienced</td>\n",
       "      <td>Software Engneering</td>\n",
       "      <td>5</td>\n",
       "    </tr>\n",
       "    <tr>\n",
       "      <th>8</th>\n",
       "      <td>IT Developer</td>\n",
       "      <td>2021</td>\n",
       "      <td>- New Cairo Cairo</td>\n",
       "      <td>Experienced</td>\n",
       "      <td>IT Category</td>\n",
       "      <td>2</td>\n",
       "    </tr>\n",
       "    <tr>\n",
       "      <th>9</th>\n",
       "      <td>Software Developer (AWS Serverless Experience)</td>\n",
       "      <td>- Maadi</td>\n",
       "      <td>un known</td>\n",
       "      <td>Entry Level</td>\n",
       "      <td>Software Engneering</td>\n",
       "      <td>1</td>\n",
       "    </tr>\n",
       "  </tbody>\n",
       "</table>\n",
       "</div>"
      ],
      "text/plain": [
       "                                         job_titles1      year  \\\n",
       "0      Business Development Specialist - Upper Egypt      2021   \n",
       "1   Senior/Intermediate .NET Core Developer (Remo...      2021   \n",
       "2                          Senior Software Developer      2021   \n",
       "3           Software Developer / Desktop Development      2021   \n",
       "4         Senior Software Developer -Dynamics 365...      2021   \n",
       "5                   Senior Software Developer - Java      2021   \n",
       "6               Vodafone Egypt Customer Care Advisor      2021   \n",
       "7              Software Developer - As/400 Developer      2021   \n",
       "8                                       IT Developer      2021   \n",
       "9     Software Developer (AWS Serverless Experience)   - Maadi   \n",
       "\n",
       "             Location        Level      StandardJobTitle YearsOfExperience  \n",
       "0       - Aswan Egypt  Experienced  Software Engneering                  2  \n",
       "1       - Cairo Egypt  Experienced  Software Engneering                  4  \n",
       "2   - New Cairo Cairo  Experienced  Software Engneering                  6  \n",
       "3   - Nasr City Cairo  Entry Level  Software Engneering                  0  \n",
       "4   - New Cairo Cairo  Experienced  Software Engneering                  4  \n",
       "5   - New Cairo Cairo  Experienced  Software Engneering                  4  \n",
       "6       - Maadi Cairo  Entry Level  Software Engneering                  0  \n",
       "7       - Cairo Egypt  Experienced  Software Engneering                  5  \n",
       "8   - New Cairo Cairo  Experienced           IT Category                 2  \n",
       "9            un known  Entry Level  Software Engneering                  1  "
      ]
     },
     "execution_count": 98,
     "metadata": {},
     "output_type": "execute_result"
    }
   ],
   "source": [
    "df.head(10)"
   ]
  },
  {
   "cell_type": "markdown",
   "metadata": {},
   "source": [
    "# i finishe the two data so i would start at the third one"
   ]
  },
  {
   "cell_type": "code",
   "execution_count": 99,
   "metadata": {},
   "outputs": [],
   "source": [
    "data3= pd.read_csv('Wuzzuf14-16 (1).csv')"
   ]
  },
  {
   "cell_type": "code",
   "execution_count": 100,
   "metadata": {},
   "outputs": [],
   "source": [
    "asd=data3.copy()"
   ]
  },
  {
   "cell_type": "code",
   "execution_count": 101,
   "metadata": {},
   "outputs": [
    {
     "name": "stdout",
     "output_type": "stream",
     "text": [
      "<class 'pandas.core.frame.DataFrame'>\n",
      "RangeIndex: 21922 entries, 0 to 21921\n",
      "Data columns (total 20 columns):\n",
      " #   Column            Non-Null Count  Dtype  \n",
      "---  ------            --------------  -----  \n",
      " 0   id                14799 non-null  object \n",
      " 1   city              14732 non-null  object \n",
      " 2   job_title         14731 non-null  object \n",
      " 3   job_category1     14731 non-null  object \n",
      " 4   job_category2     14730 non-null  object \n",
      " 5   job_category3     14730 non-null  object \n",
      " 6   job_industry1     14730 non-null  object \n",
      " 7   job_industry2     14730 non-null  object \n",
      " 8   job_industry3     14730 non-null  object \n",
      " 9   salary_minimum    14730 non-null  float64\n",
      " 10  salary_maximum    14730 non-null  float64\n",
      " 11  num_vacancies     14730 non-null  float64\n",
      " 12  career_level      14730 non-null  object \n",
      " 13  experience_years  14730 non-null  object \n",
      " 14  post_date         14730 non-null  object \n",
      " 15  views             14730 non-null  float64\n",
      " 16  job_description   14540 non-null  object \n",
      " 17  job_requirements  12922 non-null  object \n",
      " 18  payment_period    14725 non-null  object \n",
      " 19  currency          14725 non-null  object \n",
      "dtypes: float64(4), object(16)\n",
      "memory usage: 3.3+ MB\n"
     ]
    }
   ],
   "source": [
    "asd.info()"
   ]
  },
  {
   "cell_type": "code",
   "execution_count": 102,
   "metadata": {},
   "outputs": [
    {
     "data": {
      "text/html": [
       "<div>\n",
       "<style scoped>\n",
       "    .dataframe tbody tr th:only-of-type {\n",
       "        vertical-align: middle;\n",
       "    }\n",
       "\n",
       "    .dataframe tbody tr th {\n",
       "        vertical-align: top;\n",
       "    }\n",
       "\n",
       "    .dataframe thead th {\n",
       "        text-align: right;\n",
       "    }\n",
       "</style>\n",
       "<table border=\"1\" class=\"dataframe\">\n",
       "  <thead>\n",
       "    <tr style=\"text-align: right;\">\n",
       "      <th></th>\n",
       "      <th>id</th>\n",
       "      <th>city</th>\n",
       "      <th>job_title</th>\n",
       "      <th>job_category1</th>\n",
       "      <th>job_category2</th>\n",
       "      <th>job_category3</th>\n",
       "      <th>job_industry1</th>\n",
       "      <th>job_industry2</th>\n",
       "      <th>job_industry3</th>\n",
       "      <th>salary_minimum</th>\n",
       "      <th>salary_maximum</th>\n",
       "      <th>num_vacancies</th>\n",
       "      <th>career_level</th>\n",
       "      <th>experience_years</th>\n",
       "      <th>post_date</th>\n",
       "      <th>views</th>\n",
       "      <th>job_description</th>\n",
       "      <th>job_requirements</th>\n",
       "      <th>payment_period</th>\n",
       "      <th>currency</th>\n",
       "    </tr>\n",
       "  </thead>\n",
       "  <tbody>\n",
       "    <tr>\n",
       "      <th>0</th>\n",
       "      <td>NaN</td>\n",
       "      <td>NaN</td>\n",
       "      <td>NaN</td>\n",
       "      <td>NaN</td>\n",
       "      <td>NaN</td>\n",
       "      <td>NaN</td>\n",
       "      <td>NaN</td>\n",
       "      <td>NaN</td>\n",
       "      <td>NaN</td>\n",
       "      <td>NaN</td>\n",
       "      <td>NaN</td>\n",
       "      <td>NaN</td>\n",
       "      <td>NaN</td>\n",
       "      <td>NaN</td>\n",
       "      <td>NaN</td>\n",
       "      <td>NaN</td>\n",
       "      <td>NaN</td>\n",
       "      <td>NaN</td>\n",
       "      <td>NaN</td>\n",
       "      <td>NaN</td>\n",
       "    </tr>\n",
       "    <tr>\n",
       "      <th>1</th>\n",
       "      <td>a361ef59</td>\n",
       "      <td>Cairo</td>\n",
       "      <td>German Training Coordinator</td>\n",
       "      <td>Customer Service/Support</td>\n",
       "      <td>Administration</td>\n",
       "      <td>Human Resources</td>\n",
       "      <td>Translation and Localization</td>\n",
       "      <td>Business Services - Other</td>\n",
       "      <td>Education</td>\n",
       "      <td>1000.0</td>\n",
       "      <td>5000.0</td>\n",
       "      <td>8.0</td>\n",
       "      <td>Entry Level</td>\n",
       "      <td>0-2</td>\n",
       "      <td>1/1/2014 20:01</td>\n",
       "      <td>2213.0</td>\n",
       "      <td>&lt;p&gt;&amp;bull;Placing jobs' ads on various websites...</td>\n",
       "      <td>NaN</td>\n",
       "      <td>Per Month</td>\n",
       "      <td>Egyptian Pound</td>\n",
       "    </tr>\n",
       "    <tr>\n",
       "      <th>2</th>\n",
       "      <td>7226ce78</td>\n",
       "      <td>Cairo</td>\n",
       "      <td>Junior Software Developer</td>\n",
       "      <td>IT/Software Development</td>\n",
       "      <td>Select</td>\n",
       "      <td>Select</td>\n",
       "      <td>Computer Software</td>\n",
       "      <td>Select</td>\n",
       "      <td>Select</td>\n",
       "      <td>2000.0</td>\n",
       "      <td>2500.0</td>\n",
       "      <td>1.0</td>\n",
       "      <td>Entry Level</td>\n",
       "      <td>2</td>\n",
       "      <td>1/2/2014 11:01</td>\n",
       "      <td>2940.0</td>\n",
       "      <td>&lt;span style=\"text-decoration: underline;\"&gt;&lt;str...</td>\n",
       "      <td>NaN</td>\n",
       "      <td>Per Month</td>\n",
       "      <td>Egyptian Pound</td>\n",
       "    </tr>\n",
       "    <tr>\n",
       "      <th>3</th>\n",
       "      <td>f4b2bcd6</td>\n",
       "      <td>Cairo</td>\n",
       "      <td>Application Support Engineer</td>\n",
       "      <td>IT/Software Development</td>\n",
       "      <td>Select</td>\n",
       "      <td>Select</td>\n",
       "      <td>Telecommunications Services</td>\n",
       "      <td>Select</td>\n",
       "      <td>Select</td>\n",
       "      <td>2000.0</td>\n",
       "      <td>3500.0</td>\n",
       "      <td>1.0</td>\n",
       "      <td>Entry Level</td>\n",
       "      <td>2-Jan</td>\n",
       "      <td>1/2/2014 12:01</td>\n",
       "      <td>2042.0</td>\n",
       "      <td>&lt;strong&gt;&lt;span style=\"text-decoration: underlin...</td>\n",
       "      <td>NaN</td>\n",
       "      <td>Per Month</td>\n",
       "      <td>Egyptian Pound</td>\n",
       "    </tr>\n",
       "    <tr>\n",
       "      <th>4</th>\n",
       "      <td>3fee6f73</td>\n",
       "      <td>Alexandria</td>\n",
       "      <td>Electrical Maintenance Engineer</td>\n",
       "      <td>Engineering</td>\n",
       "      <td>Select</td>\n",
       "      <td>Select</td>\n",
       "      <td>Food and Beverage Production</td>\n",
       "      <td>Select</td>\n",
       "      <td>Select</td>\n",
       "      <td>5000.0</td>\n",
       "      <td>8000.0</td>\n",
       "      <td>1.0</td>\n",
       "      <td>Experienced (Non-Manager)</td>\n",
       "      <td>3-Jan</td>\n",
       "      <td>1/21/2014 13:45</td>\n",
       "      <td>5684.0</td>\n",
       "      <td>Job Title: Electrical Maintenance Engineer&lt;br ...</td>\n",
       "      <td>NaN</td>\n",
       "      <td>Per Month</td>\n",
       "      <td>Egyptian Pound</td>\n",
       "    </tr>\n",
       "    <tr>\n",
       "      <th>5</th>\n",
       "      <td>22eb5fcb</td>\n",
       "      <td>Cairo</td>\n",
       "      <td>IT Adminstrator</td>\n",
       "      <td>IT/Software Development</td>\n",
       "      <td>Select</td>\n",
       "      <td>Select</td>\n",
       "      <td>Retail</td>\n",
       "      <td>Select</td>\n",
       "      <td>Select</td>\n",
       "      <td>3000.0</td>\n",
       "      <td>5000.0</td>\n",
       "      <td>1.0</td>\n",
       "      <td>Manager</td>\n",
       "      <td>5-Mar</td>\n",
       "      <td>1/2/2014 17:00</td>\n",
       "      <td>1644.0</td>\n",
       "      <td>&amp;bull; Maintain the IT Retail Management Syste...</td>\n",
       "      <td>NaN</td>\n",
       "      <td>Per Month</td>\n",
       "      <td>Egyptian Pound</td>\n",
       "    </tr>\n",
       "    <tr>\n",
       "      <th>6</th>\n",
       "      <td>e9b78c6e</td>\n",
       "      <td>6 th of October city</td>\n",
       "      <td>e-payments System Administrator</td>\n",
       "      <td>IT/Software Development</td>\n",
       "      <td>Select</td>\n",
       "      <td>Select</td>\n",
       "      <td>Computer Software</td>\n",
       "      <td>Select</td>\n",
       "      <td>Select</td>\n",
       "      <td>3000.0</td>\n",
       "      <td>5000.0</td>\n",
       "      <td>1.0</td>\n",
       "      <td>Experienced (Non-Manager)</td>\n",
       "      <td>3-Jan</td>\n",
       "      <td>1/2/2014 15:01</td>\n",
       "      <td>2335.0</td>\n",
       "      <td>&lt;p&gt;1-Configure and Archive Data for the banks ...</td>\n",
       "      <td>NaN</td>\n",
       "      <td>Per Month</td>\n",
       "      <td>Egyptian Pound</td>\n",
       "    </tr>\n",
       "    <tr>\n",
       "      <th>7</th>\n",
       "      <td>6f23fec0</td>\n",
       "      <td>cairo,</td>\n",
       "      <td>PROCESS ENGINEER</td>\n",
       "      <td>Engineering</td>\n",
       "      <td>Select</td>\n",
       "      <td>Select</td>\n",
       "      <td>Chemicals/Petro-Chemicals</td>\n",
       "      <td>Oil and Energy</td>\n",
       "      <td>Select</td>\n",
       "      <td>10000.0</td>\n",
       "      <td>15000.0</td>\n",
       "      <td>3.0</td>\n",
       "      <td>Experienced (Non-Manager)</td>\n",
       "      <td>5+</td>\n",
       "      <td>1/2/2014 15:01</td>\n",
       "      <td>0.0</td>\n",
       "      <td>&amp;bull; Assisting in preparation of the Project...</td>\n",
       "      <td>NaN</td>\n",
       "      <td>Per Month</td>\n",
       "      <td>Egyptian Pound</td>\n",
       "    </tr>\n",
       "    <tr>\n",
       "      <th>8</th>\n",
       "      <td>a47f2d65</td>\n",
       "      <td>Cairo</td>\n",
       "      <td>Senior Software Engineer</td>\n",
       "      <td>IT/Software Development</td>\n",
       "      <td>Engineering</td>\n",
       "      <td>Select</td>\n",
       "      <td>Computer Software</td>\n",
       "      <td>Information Technology Services</td>\n",
       "      <td>Select</td>\n",
       "      <td>3500.0</td>\n",
       "      <td>6000.0</td>\n",
       "      <td>2.0</td>\n",
       "      <td>Experienced (Non-Manager)</td>\n",
       "      <td>2+</td>\n",
       "      <td>1/2/2014 15:01</td>\n",
       "      <td>1839.0</td>\n",
       "      <td>&lt;strong&gt;Concept:&lt;/strong&gt;&lt;br /&gt;Data Structure,...</td>\n",
       "      <td>NaN</td>\n",
       "      <td>Per Month</td>\n",
       "      <td>Egyptian Pound</td>\n",
       "    </tr>\n",
       "    <tr>\n",
       "      <th>9</th>\n",
       "      <td>55299fb0</td>\n",
       "      <td>Alexandria</td>\n",
       "      <td>OPERATION ENGINEER</td>\n",
       "      <td>Engineering</td>\n",
       "      <td>Select</td>\n",
       "      <td>Select</td>\n",
       "      <td>Chemicals/Petro-Chemicals</td>\n",
       "      <td>Select</td>\n",
       "      <td>Select</td>\n",
       "      <td>8000.0</td>\n",
       "      <td>12000.0</td>\n",
       "      <td>1.0</td>\n",
       "      <td>Experienced (Non-Manager)</td>\n",
       "      <td>3</td>\n",
       "      <td>1/2/2014 16:01</td>\n",
       "      <td>0.0</td>\n",
       "      <td>OPERATION ENGINEER Aug 2008 to Jul 2011\\r\\n&lt;p&gt;...</td>\n",
       "      <td>NaN</td>\n",
       "      <td>Per Month</td>\n",
       "      <td>Egyptian Pound</td>\n",
       "    </tr>\n",
       "  </tbody>\n",
       "</table>\n",
       "</div>"
      ],
      "text/plain": [
       "         id                  city                               job_title  \\\n",
       "0       NaN                   NaN                                     NaN   \n",
       "1  a361ef59                 Cairo            German Training Coordinator    \n",
       "2  7226ce78                 Cairo              Junior Software Developer    \n",
       "3  f4b2bcd6                 Cairo            Application Support Engineer   \n",
       "4  3fee6f73            Alexandria         Electrical Maintenance Engineer   \n",
       "5  22eb5fcb                 Cairo                         IT Adminstrator   \n",
       "6  e9b78c6e  6 th of October city         e-payments System Administrator   \n",
       "7  6f23fec0                cairo,  PROCESS ENGINEER                         \n",
       "8  a47f2d65                 Cairo                Senior Software Engineer   \n",
       "9  55299fb0            Alexandria  OPERATION ENGINEER                       \n",
       "\n",
       "              job_category1   job_category2    job_category3  \\\n",
       "0                       NaN             NaN              NaN   \n",
       "1  Customer Service/Support  Administration  Human Resources   \n",
       "2   IT/Software Development          Select           Select   \n",
       "3   IT/Software Development          Select           Select   \n",
       "4               Engineering          Select           Select   \n",
       "5   IT/Software Development          Select           Select   \n",
       "6   IT/Software Development          Select           Select   \n",
       "7               Engineering          Select           Select   \n",
       "8   IT/Software Development     Engineering           Select   \n",
       "9               Engineering          Select           Select   \n",
       "\n",
       "                     job_industry1                       job_industry2  \\\n",
       "0                              NaN                                 NaN   \n",
       "1  Translation and Localization              Business Services - Other   \n",
       "2                Computer Software                              Select   \n",
       "3      Telecommunications Services                              Select   \n",
       "4     Food and Beverage Production                              Select   \n",
       "5                           Retail                              Select   \n",
       "6                Computer Software                              Select   \n",
       "7        Chemicals/Petro-Chemicals                   Oil and Energy      \n",
       "8                Computer Software  Information Technology Services      \n",
       "9        Chemicals/Petro-Chemicals                              Select   \n",
       "\n",
       "  job_industry3  salary_minimum  salary_maximum  num_vacancies  \\\n",
       "0           NaN             NaN             NaN            NaN   \n",
       "1     Education          1000.0          5000.0            8.0   \n",
       "2        Select          2000.0          2500.0            1.0   \n",
       "3        Select          2000.0          3500.0            1.0   \n",
       "4        Select          5000.0          8000.0            1.0   \n",
       "5        Select          3000.0          5000.0            1.0   \n",
       "6        Select          3000.0          5000.0            1.0   \n",
       "7        Select         10000.0         15000.0            3.0   \n",
       "8        Select          3500.0          6000.0            2.0   \n",
       "9        Select          8000.0         12000.0            1.0   \n",
       "\n",
       "                career_level experience_years        post_date   views  \\\n",
       "0                        NaN              NaN              NaN     NaN   \n",
       "1                Entry Level              0-2   1/1/2014 20:01  2213.0   \n",
       "2                Entry Level                2   1/2/2014 11:01  2940.0   \n",
       "3                Entry Level            2-Jan   1/2/2014 12:01  2042.0   \n",
       "4  Experienced (Non-Manager)            3-Jan  1/21/2014 13:45  5684.0   \n",
       "5                    Manager            5-Mar   1/2/2014 17:00  1644.0   \n",
       "6  Experienced (Non-Manager)            3-Jan   1/2/2014 15:01  2335.0   \n",
       "7  Experienced (Non-Manager)               5+   1/2/2014 15:01     0.0   \n",
       "8  Experienced (Non-Manager)               2+   1/2/2014 15:01  1839.0   \n",
       "9  Experienced (Non-Manager)                3   1/2/2014 16:01     0.0   \n",
       "\n",
       "                                     job_description job_requirements  \\\n",
       "0                                                NaN              NaN   \n",
       "1  <p>&bull;Placing jobs' ads on various websites...              NaN   \n",
       "2  <span style=\"text-decoration: underline;\"><str...              NaN   \n",
       "3  <strong><span style=\"text-decoration: underlin...              NaN   \n",
       "4  Job Title: Electrical Maintenance Engineer<br ...              NaN   \n",
       "5  &bull; Maintain the IT Retail Management Syste...              NaN   \n",
       "6  <p>1-Configure and Archive Data for the banks ...              NaN   \n",
       "7  &bull; Assisting in preparation of the Project...              NaN   \n",
       "8  <strong>Concept:</strong><br />Data Structure,...              NaN   \n",
       "9  OPERATION ENGINEER Aug 2008 to Jul 2011\\r\\n<p>...              NaN   \n",
       "\n",
       "  payment_period        currency  \n",
       "0            NaN             NaN  \n",
       "1      Per Month  Egyptian Pound  \n",
       "2      Per Month  Egyptian Pound  \n",
       "3      Per Month  Egyptian Pound  \n",
       "4      Per Month  Egyptian Pound  \n",
       "5      Per Month  Egyptian Pound  \n",
       "6      Per Month  Egyptian Pound  \n",
       "7      Per Month  Egyptian Pound  \n",
       "8      Per Month  Egyptian Pound  \n",
       "9      Per Month  Egyptian Pound  "
      ]
     },
     "execution_count": 102,
     "metadata": {},
     "output_type": "execute_result"
    }
   ],
   "source": [
    "asd.head(10)"
   ]
  },
  {
   "cell_type": "markdown",
   "metadata": {},
   "source": [
    "# i started cleaning and dropped un important columns"
   ]
  },
  {
   "cell_type": "code",
   "execution_count": 103,
   "metadata": {},
   "outputs": [],
   "source": [
    "asd= asd.drop(['id','job_category2','job_category3','job_industry2','job_industry3','views','job_requirements','currency','payment_period','salary_maximum','salary_minimum','num_vacancies','job_industry1'], axis = 1)"
   ]
  },
  {
   "cell_type": "code",
   "execution_count": 104,
   "metadata": {},
   "outputs": [
    {
     "name": "stdout",
     "output_type": "stream",
     "text": [
      "<class 'pandas.core.frame.DataFrame'>\n",
      "RangeIndex: 21922 entries, 0 to 21921\n",
      "Data columns (total 7 columns):\n",
      " #   Column            Non-Null Count  Dtype \n",
      "---  ------            --------------  ----- \n",
      " 0   city              14732 non-null  object\n",
      " 1   job_title         14731 non-null  object\n",
      " 2   job_category1     14731 non-null  object\n",
      " 3   career_level      14730 non-null  object\n",
      " 4   experience_years  14730 non-null  object\n",
      " 5   post_date         14730 non-null  object\n",
      " 6   job_description   14540 non-null  object\n",
      "dtypes: object(7)\n",
      "memory usage: 1.2+ MB\n"
     ]
    }
   ],
   "source": [
    "asd.info()"
   ]
  },
  {
   "cell_type": "markdown",
   "metadata": {},
   "source": [
    "# i rename the coulmn of city"
   ]
  },
  {
   "cell_type": "code",
   "execution_count": 105,
   "metadata": {},
   "outputs": [],
   "source": [
    "asd = asd.rename(columns = {'city':'Location'})"
   ]
  },
  {
   "cell_type": "markdown",
   "metadata": {},
   "source": [
    "# i searched about the null values"
   ]
  },
  {
   "cell_type": "code",
   "execution_count": 106,
   "metadata": {},
   "outputs": [
    {
     "data": {
      "text/plain": [
       "Location            7190\n",
       "job_title           7191\n",
       "job_category1       7191\n",
       "career_level        7192\n",
       "experience_years    7192\n",
       "post_date           7192\n",
       "job_description     7382\n",
       "dtype: int64"
      ]
     },
     "execution_count": 106,
     "metadata": {},
     "output_type": "execute_result"
    }
   ],
   "source": [
    "asd.isnull().sum()"
   ]
  },
  {
   "cell_type": "markdown",
   "metadata": {},
   "source": [
    "# there is alot of null values but i had huge data so it wouldnt effect on my work so i dropped it"
   ]
  },
  {
   "cell_type": "code",
   "execution_count": 107,
   "metadata": {},
   "outputs": [],
   "source": [
    "asd.dropna(inplace=True)\n"
   ]
  },
  {
   "cell_type": "markdown",
   "metadata": {},
   "source": [
    "# i extract the real valued of experience years because there is noise in the column and drop old column after that"
   ]
  },
  {
   "cell_type": "code",
   "execution_count": 108,
   "metadata": {},
   "outputs": [],
   "source": [
    "x=asd.experience_years.str.extract('(\\d+)')\n",
    "asd['YearsOfExperience']=x\n",
    "asd = asd.drop(['experience_years'], axis = 1)"
   ]
  },
  {
   "cell_type": "code",
   "execution_count": 109,
   "metadata": {},
   "outputs": [
    {
     "name": "stdout",
     "output_type": "stream",
     "text": [
      "<class 'pandas.core.frame.DataFrame'>\n",
      "Int64Index: 14540 entries, 1 to 21921\n",
      "Data columns (total 7 columns):\n",
      " #   Column             Non-Null Count  Dtype \n",
      "---  ------             --------------  ----- \n",
      " 0   Location           14540 non-null  object\n",
      " 1   job_title          14540 non-null  object\n",
      " 2   job_category1      14540 non-null  object\n",
      " 3   career_level       14540 non-null  object\n",
      " 4   post_date          14540 non-null  object\n",
      " 5   job_description    14540 non-null  object\n",
      " 6   YearsOfExperience  14540 non-null  object\n",
      "dtypes: object(7)\n",
      "memory usage: 908.8+ KB\n"
     ]
    }
   ],
   "source": [
    "asd.info()\n"
   ]
  },
  {
   "cell_type": "markdown",
   "metadata": {},
   "source": [
    "# here i would extract the years from this colum by using date time library and would drop the old column"
   ]
  },
  {
   "cell_type": "code",
   "execution_count": 110,
   "metadata": {},
   "outputs": [],
   "source": [
    "asd['post_date'] = pd.to_datetime(asd['post_date'])\n"
   ]
  },
  {
   "cell_type": "code",
   "execution_count": 111,
   "metadata": {},
   "outputs": [],
   "source": [
    "asd['year']=asd['post_date'].dt.year\n",
    "asd = asd.drop(['post_date'], axis = 1)"
   ]
  },
  {
   "cell_type": "code",
   "execution_count": 112,
   "metadata": {},
   "outputs": [
    {
     "data": {
      "text/html": [
       "<div>\n",
       "<style scoped>\n",
       "    .dataframe tbody tr th:only-of-type {\n",
       "        vertical-align: middle;\n",
       "    }\n",
       "\n",
       "    .dataframe tbody tr th {\n",
       "        vertical-align: top;\n",
       "    }\n",
       "\n",
       "    .dataframe thead th {\n",
       "        text-align: right;\n",
       "    }\n",
       "</style>\n",
       "<table border=\"1\" class=\"dataframe\">\n",
       "  <thead>\n",
       "    <tr style=\"text-align: right;\">\n",
       "      <th></th>\n",
       "      <th>Location</th>\n",
       "      <th>job_title</th>\n",
       "      <th>job_category1</th>\n",
       "      <th>career_level</th>\n",
       "      <th>job_description</th>\n",
       "      <th>YearsOfExperience</th>\n",
       "      <th>year</th>\n",
       "    </tr>\n",
       "  </thead>\n",
       "  <tbody>\n",
       "    <tr>\n",
       "      <th>1</th>\n",
       "      <td>Cairo</td>\n",
       "      <td>German Training Coordinator</td>\n",
       "      <td>Customer Service/Support</td>\n",
       "      <td>Entry Level</td>\n",
       "      <td>&lt;p&gt;&amp;bull;Placing jobs' ads on various websites...</td>\n",
       "      <td>0</td>\n",
       "      <td>2014</td>\n",
       "    </tr>\n",
       "    <tr>\n",
       "      <th>2</th>\n",
       "      <td>Cairo</td>\n",
       "      <td>Junior Software Developer</td>\n",
       "      <td>IT/Software Development</td>\n",
       "      <td>Entry Level</td>\n",
       "      <td>&lt;span style=\"text-decoration: underline;\"&gt;&lt;str...</td>\n",
       "      <td>2</td>\n",
       "      <td>2014</td>\n",
       "    </tr>\n",
       "    <tr>\n",
       "      <th>3</th>\n",
       "      <td>Cairo</td>\n",
       "      <td>Application Support Engineer</td>\n",
       "      <td>IT/Software Development</td>\n",
       "      <td>Entry Level</td>\n",
       "      <td>&lt;strong&gt;&lt;span style=\"text-decoration: underlin...</td>\n",
       "      <td>2</td>\n",
       "      <td>2014</td>\n",
       "    </tr>\n",
       "    <tr>\n",
       "      <th>4</th>\n",
       "      <td>Alexandria</td>\n",
       "      <td>Electrical Maintenance Engineer</td>\n",
       "      <td>Engineering</td>\n",
       "      <td>Experienced (Non-Manager)</td>\n",
       "      <td>Job Title: Electrical Maintenance Engineer&lt;br ...</td>\n",
       "      <td>3</td>\n",
       "      <td>2014</td>\n",
       "    </tr>\n",
       "    <tr>\n",
       "      <th>5</th>\n",
       "      <td>Cairo</td>\n",
       "      <td>IT Adminstrator</td>\n",
       "      <td>IT/Software Development</td>\n",
       "      <td>Manager</td>\n",
       "      <td>&amp;bull; Maintain the IT Retail Management Syste...</td>\n",
       "      <td>5</td>\n",
       "      <td>2014</td>\n",
       "    </tr>\n",
       "  </tbody>\n",
       "</table>\n",
       "</div>"
      ],
      "text/plain": [
       "     Location                        job_title             job_category1  \\\n",
       "1       Cairo     German Training Coordinator   Customer Service/Support   \n",
       "2       Cairo       Junior Software Developer    IT/Software Development   \n",
       "3       Cairo     Application Support Engineer   IT/Software Development   \n",
       "4  Alexandria  Electrical Maintenance Engineer               Engineering   \n",
       "5       Cairo                  IT Adminstrator   IT/Software Development   \n",
       "\n",
       "                career_level  \\\n",
       "1                Entry Level   \n",
       "2                Entry Level   \n",
       "3                Entry Level   \n",
       "4  Experienced (Non-Manager)   \n",
       "5                    Manager   \n",
       "\n",
       "                                     job_description YearsOfExperience  year  \n",
       "1  <p>&bull;Placing jobs' ads on various websites...                 0  2014  \n",
       "2  <span style=\"text-decoration: underline;\"><str...                 2  2014  \n",
       "3  <strong><span style=\"text-decoration: underlin...                 2  2014  \n",
       "4  Job Title: Electrical Maintenance Engineer<br ...                 3  2014  \n",
       "5  &bull; Maintain the IT Retail Management Syste...                 5  2014  "
      ]
     },
     "execution_count": 112,
     "metadata": {},
     "output_type": "execute_result"
    }
   ],
   "source": [
    "asd.head(5)\n"
   ]
  },
  {
   "cell_type": "markdown",
   "metadata": {},
   "source": [
    "# the value counts of years"
   ]
  },
  {
   "cell_type": "code",
   "execution_count": 113,
   "metadata": {},
   "outputs": [
    {
     "data": {
      "text/plain": [
       "2015    6861\n",
       "2014    4006\n",
       "2016    3673\n",
       "Name: year, dtype: int64"
      ]
     },
     "execution_count": 113,
     "metadata": {},
     "output_type": "execute_result"
    }
   ],
   "source": [
    "asd.year.value_counts()\n"
   ]
  },
  {
   "cell_type": "markdown",
   "metadata": {},
   "source": [
    "# here i Filter job titles into categories"
   ]
  },
  {
   "cell_type": "code",
   "execution_count": 114,
   "metadata": {},
   "outputs": [],
   "source": [
    "r=asd.job_title"
   ]
  },
  {
   "cell_type": "code",
   "execution_count": 115,
   "metadata": {},
   "outputs": [],
   "source": [
    "Group_list=[]\n",
    "for temp_jobtitle in r:\n",
    "    if(\"IT\" in temp_jobtitle):\n",
    "        Group_list.append('IT Category')\n",
    "    elif('Software'or \"Full Stack\"or\"Developer\"or\"End\"or\"end\" in temp_jobtitle):\n",
    "        Group_list.append('Software Engneering ')\n",
    "    else:\n",
    "        Group_list.append(r)"
   ]
  },
  {
   "cell_type": "markdown",
   "metadata": {},
   "source": [
    "# i checked the length and add the new column"
   ]
  },
  {
   "cell_type": "code",
   "execution_count": 116,
   "metadata": {},
   "outputs": [
    {
     "data": {
      "text/plain": [
       "14540"
      ]
     },
     "execution_count": 116,
     "metadata": {},
     "output_type": "execute_result"
    }
   ],
   "source": [
    "asd['StandardJobTitle']=Group_list\n",
    "len(Group_list)"
   ]
  },
  {
   "cell_type": "code",
   "execution_count": 117,
   "metadata": {},
   "outputs": [
    {
     "data": {
      "text/plain": [
       "1        Software Engneering \n",
       "2        Software Engneering \n",
       "3        Software Engneering \n",
       "4        Software Engneering \n",
       "5                 IT Category\n",
       "                 ...         \n",
       "21915    Software Engneering \n",
       "21917    Software Engneering \n",
       "21918    Software Engneering \n",
       "21920    Software Engneering \n",
       "21921    Software Engneering \n",
       "Name: StandardJobTitle, Length: 14540, dtype: object"
      ]
     },
     "execution_count": 117,
     "metadata": {},
     "output_type": "execute_result"
    }
   ],
   "source": [
    "asd.StandardJobTitle"
   ]
  },
  {
   "cell_type": "code",
   "execution_count": 118,
   "metadata": {},
   "outputs": [
    {
     "data": {
      "text/html": [
       "<div>\n",
       "<style scoped>\n",
       "    .dataframe tbody tr th:only-of-type {\n",
       "        vertical-align: middle;\n",
       "    }\n",
       "\n",
       "    .dataframe tbody tr th {\n",
       "        vertical-align: top;\n",
       "    }\n",
       "\n",
       "    .dataframe thead th {\n",
       "        text-align: right;\n",
       "    }\n",
       "</style>\n",
       "<table border=\"1\" class=\"dataframe\">\n",
       "  <thead>\n",
       "    <tr style=\"text-align: right;\">\n",
       "      <th></th>\n",
       "      <th>Location</th>\n",
       "      <th>job_title</th>\n",
       "      <th>job_category1</th>\n",
       "      <th>career_level</th>\n",
       "      <th>job_description</th>\n",
       "      <th>YearsOfExperience</th>\n",
       "      <th>year</th>\n",
       "      <th>StandardJobTitle</th>\n",
       "    </tr>\n",
       "  </thead>\n",
       "  <tbody>\n",
       "    <tr>\n",
       "      <th>1</th>\n",
       "      <td>Cairo</td>\n",
       "      <td>German Training Coordinator</td>\n",
       "      <td>Customer Service/Support</td>\n",
       "      <td>Entry Level</td>\n",
       "      <td>&lt;p&gt;&amp;bull;Placing jobs' ads on various websites...</td>\n",
       "      <td>0</td>\n",
       "      <td>2014</td>\n",
       "      <td>Software Engneering</td>\n",
       "    </tr>\n",
       "    <tr>\n",
       "      <th>2</th>\n",
       "      <td>Cairo</td>\n",
       "      <td>Junior Software Developer</td>\n",
       "      <td>IT/Software Development</td>\n",
       "      <td>Entry Level</td>\n",
       "      <td>&lt;span style=\"text-decoration: underline;\"&gt;&lt;str...</td>\n",
       "      <td>2</td>\n",
       "      <td>2014</td>\n",
       "      <td>Software Engneering</td>\n",
       "    </tr>\n",
       "    <tr>\n",
       "      <th>3</th>\n",
       "      <td>Cairo</td>\n",
       "      <td>Application Support Engineer</td>\n",
       "      <td>IT/Software Development</td>\n",
       "      <td>Entry Level</td>\n",
       "      <td>&lt;strong&gt;&lt;span style=\"text-decoration: underlin...</td>\n",
       "      <td>2</td>\n",
       "      <td>2014</td>\n",
       "      <td>Software Engneering</td>\n",
       "    </tr>\n",
       "    <tr>\n",
       "      <th>4</th>\n",
       "      <td>Alexandria</td>\n",
       "      <td>Electrical Maintenance Engineer</td>\n",
       "      <td>Engineering</td>\n",
       "      <td>Experienced (Non-Manager)</td>\n",
       "      <td>Job Title: Electrical Maintenance Engineer&lt;br ...</td>\n",
       "      <td>3</td>\n",
       "      <td>2014</td>\n",
       "      <td>Software Engneering</td>\n",
       "    </tr>\n",
       "    <tr>\n",
       "      <th>5</th>\n",
       "      <td>Cairo</td>\n",
       "      <td>IT Adminstrator</td>\n",
       "      <td>IT/Software Development</td>\n",
       "      <td>Manager</td>\n",
       "      <td>&amp;bull; Maintain the IT Retail Management Syste...</td>\n",
       "      <td>5</td>\n",
       "      <td>2014</td>\n",
       "      <td>IT Category</td>\n",
       "    </tr>\n",
       "    <tr>\n",
       "      <th>6</th>\n",
       "      <td>6 th of October city</td>\n",
       "      <td>e-payments System Administrator</td>\n",
       "      <td>IT/Software Development</td>\n",
       "      <td>Experienced (Non-Manager)</td>\n",
       "      <td>&lt;p&gt;1-Configure and Archive Data for the banks ...</td>\n",
       "      <td>3</td>\n",
       "      <td>2014</td>\n",
       "      <td>Software Engneering</td>\n",
       "    </tr>\n",
       "    <tr>\n",
       "      <th>7</th>\n",
       "      <td>cairo,</td>\n",
       "      <td>PROCESS ENGINEER</td>\n",
       "      <td>Engineering</td>\n",
       "      <td>Experienced (Non-Manager)</td>\n",
       "      <td>&amp;bull; Assisting in preparation of the Project...</td>\n",
       "      <td>5</td>\n",
       "      <td>2014</td>\n",
       "      <td>Software Engneering</td>\n",
       "    </tr>\n",
       "    <tr>\n",
       "      <th>8</th>\n",
       "      <td>Cairo</td>\n",
       "      <td>Senior Software Engineer</td>\n",
       "      <td>IT/Software Development</td>\n",
       "      <td>Experienced (Non-Manager)</td>\n",
       "      <td>&lt;strong&gt;Concept:&lt;/strong&gt;&lt;br /&gt;Data Structure,...</td>\n",
       "      <td>2</td>\n",
       "      <td>2014</td>\n",
       "      <td>Software Engneering</td>\n",
       "    </tr>\n",
       "    <tr>\n",
       "      <th>9</th>\n",
       "      <td>Alexandria</td>\n",
       "      <td>OPERATION ENGINEER</td>\n",
       "      <td>Engineering</td>\n",
       "      <td>Experienced (Non-Manager)</td>\n",
       "      <td>OPERATION ENGINEER Aug 2008 to Jul 2011\\r\\n&lt;p&gt;...</td>\n",
       "      <td>3</td>\n",
       "      <td>2014</td>\n",
       "      <td>Software Engneering</td>\n",
       "    </tr>\n",
       "    <tr>\n",
       "      <th>10</th>\n",
       "      <td>Cairo</td>\n",
       "      <td>Graphic Designer</td>\n",
       "      <td>Creative/Design</td>\n",
       "      <td>Entry Level</td>\n",
       "      <td>Graphic Designer for the first interactive Onl...</td>\n",
       "      <td>0</td>\n",
       "      <td>2014</td>\n",
       "      <td>Software Engneering</td>\n",
       "    </tr>\n",
       "  </tbody>\n",
       "</table>\n",
       "</div>"
      ],
      "text/plain": [
       "                Location                               job_title  \\\n",
       "1                  Cairo            German Training Coordinator    \n",
       "2                  Cairo              Junior Software Developer    \n",
       "3                  Cairo            Application Support Engineer   \n",
       "4             Alexandria         Electrical Maintenance Engineer   \n",
       "5                  Cairo                         IT Adminstrator   \n",
       "6   6 th of October city         e-payments System Administrator   \n",
       "7                 cairo,  PROCESS ENGINEER                         \n",
       "8                  Cairo                Senior Software Engineer   \n",
       "9             Alexandria  OPERATION ENGINEER                       \n",
       "10                 Cairo                        Graphic Designer   \n",
       "\n",
       "               job_category1               career_level  \\\n",
       "1   Customer Service/Support                Entry Level   \n",
       "2    IT/Software Development                Entry Level   \n",
       "3    IT/Software Development                Entry Level   \n",
       "4                Engineering  Experienced (Non-Manager)   \n",
       "5    IT/Software Development                    Manager   \n",
       "6    IT/Software Development  Experienced (Non-Manager)   \n",
       "7                Engineering  Experienced (Non-Manager)   \n",
       "8    IT/Software Development  Experienced (Non-Manager)   \n",
       "9                Engineering  Experienced (Non-Manager)   \n",
       "10           Creative/Design                Entry Level   \n",
       "\n",
       "                                      job_description YearsOfExperience  year  \\\n",
       "1   <p>&bull;Placing jobs' ads on various websites...                 0  2014   \n",
       "2   <span style=\"text-decoration: underline;\"><str...                 2  2014   \n",
       "3   <strong><span style=\"text-decoration: underlin...                 2  2014   \n",
       "4   Job Title: Electrical Maintenance Engineer<br ...                 3  2014   \n",
       "5   &bull; Maintain the IT Retail Management Syste...                 5  2014   \n",
       "6   <p>1-Configure and Archive Data for the banks ...                 3  2014   \n",
       "7   &bull; Assisting in preparation of the Project...                 5  2014   \n",
       "8   <strong>Concept:</strong><br />Data Structure,...                 2  2014   \n",
       "9   OPERATION ENGINEER Aug 2008 to Jul 2011\\r\\n<p>...                 3  2014   \n",
       "10  Graphic Designer for the first interactive Onl...                 0  2014   \n",
       "\n",
       "        StandardJobTitle  \n",
       "1   Software Engneering   \n",
       "2   Software Engneering   \n",
       "3   Software Engneering   \n",
       "4   Software Engneering   \n",
       "5            IT Category  \n",
       "6   Software Engneering   \n",
       "7   Software Engneering   \n",
       "8   Software Engneering   \n",
       "9   Software Engneering   \n",
       "10  Software Engneering   "
      ]
     },
     "execution_count": 118,
     "metadata": {},
     "output_type": "execute_result"
    }
   ],
   "source": [
    "asd.head(10)"
   ]
  },
  {
   "cell_type": "markdown",
   "metadata": {},
   "source": [
    "# i would drop un important column job_category and job description because it has alot of noise  and to merge with first data set"
   ]
  },
  {
   "cell_type": "code",
   "execution_count": 119,
   "metadata": {},
   "outputs": [],
   "source": [
    "asd= asd.drop(['job_category1','job_description'], axis = 1)"
   ]
  },
  {
   "cell_type": "code",
   "execution_count": 120,
   "metadata": {},
   "outputs": [
    {
     "data": {
      "text/html": [
       "<div>\n",
       "<style scoped>\n",
       "    .dataframe tbody tr th:only-of-type {\n",
       "        vertical-align: middle;\n",
       "    }\n",
       "\n",
       "    .dataframe tbody tr th {\n",
       "        vertical-align: top;\n",
       "    }\n",
       "\n",
       "    .dataframe thead th {\n",
       "        text-align: right;\n",
       "    }\n",
       "</style>\n",
       "<table border=\"1\" class=\"dataframe\">\n",
       "  <thead>\n",
       "    <tr style=\"text-align: right;\">\n",
       "      <th></th>\n",
       "      <th>Location</th>\n",
       "      <th>job_title</th>\n",
       "      <th>career_level</th>\n",
       "      <th>YearsOfExperience</th>\n",
       "      <th>year</th>\n",
       "      <th>StandardJobTitle</th>\n",
       "    </tr>\n",
       "  </thead>\n",
       "  <tbody>\n",
       "    <tr>\n",
       "      <th>1</th>\n",
       "      <td>Cairo</td>\n",
       "      <td>German Training Coordinator</td>\n",
       "      <td>Entry Level</td>\n",
       "      <td>0</td>\n",
       "      <td>2014</td>\n",
       "      <td>Software Engneering</td>\n",
       "    </tr>\n",
       "    <tr>\n",
       "      <th>2</th>\n",
       "      <td>Cairo</td>\n",
       "      <td>Junior Software Developer</td>\n",
       "      <td>Entry Level</td>\n",
       "      <td>2</td>\n",
       "      <td>2014</td>\n",
       "      <td>Software Engneering</td>\n",
       "    </tr>\n",
       "    <tr>\n",
       "      <th>3</th>\n",
       "      <td>Cairo</td>\n",
       "      <td>Application Support Engineer</td>\n",
       "      <td>Entry Level</td>\n",
       "      <td>2</td>\n",
       "      <td>2014</td>\n",
       "      <td>Software Engneering</td>\n",
       "    </tr>\n",
       "    <tr>\n",
       "      <th>4</th>\n",
       "      <td>Alexandria</td>\n",
       "      <td>Electrical Maintenance Engineer</td>\n",
       "      <td>Experienced (Non-Manager)</td>\n",
       "      <td>3</td>\n",
       "      <td>2014</td>\n",
       "      <td>Software Engneering</td>\n",
       "    </tr>\n",
       "    <tr>\n",
       "      <th>5</th>\n",
       "      <td>Cairo</td>\n",
       "      <td>IT Adminstrator</td>\n",
       "      <td>Manager</td>\n",
       "      <td>5</td>\n",
       "      <td>2014</td>\n",
       "      <td>IT Category</td>\n",
       "    </tr>\n",
       "  </tbody>\n",
       "</table>\n",
       "</div>"
      ],
      "text/plain": [
       "     Location                        job_title               career_level  \\\n",
       "1       Cairo     German Training Coordinator                 Entry Level   \n",
       "2       Cairo       Junior Software Developer                 Entry Level   \n",
       "3       Cairo     Application Support Engineer                Entry Level   \n",
       "4  Alexandria  Electrical Maintenance Engineer  Experienced (Non-Manager)   \n",
       "5       Cairo                  IT Adminstrator                    Manager   \n",
       "\n",
       "  YearsOfExperience  year      StandardJobTitle  \n",
       "1                 0  2014  Software Engneering   \n",
       "2                 2  2014  Software Engneering   \n",
       "3                 2  2014  Software Engneering   \n",
       "4                 3  2014  Software Engneering   \n",
       "5                 5  2014           IT Category  "
      ]
     },
     "execution_count": 120,
     "metadata": {},
     "output_type": "execute_result"
    }
   ],
   "source": [
    "asd.head(5)"
   ]
  },
  {
   "cell_type": "markdown",
   "metadata": {},
   "source": [
    "# i rename the columns to merge with the last data sets"
   ]
  },
  {
   "cell_type": "code",
   "execution_count": 121,
   "metadata": {},
   "outputs": [],
   "source": [
    "asd = asd.rename(columns = {'job_title':'job_titles1','career_level':'Level'})"
   ]
  },
  {
   "cell_type": "code",
   "execution_count": 122,
   "metadata": {},
   "outputs": [
    {
     "data": {
      "text/html": [
       "<div>\n",
       "<style scoped>\n",
       "    .dataframe tbody tr th:only-of-type {\n",
       "        vertical-align: middle;\n",
       "    }\n",
       "\n",
       "    .dataframe tbody tr th {\n",
       "        vertical-align: top;\n",
       "    }\n",
       "\n",
       "    .dataframe thead th {\n",
       "        text-align: right;\n",
       "    }\n",
       "</style>\n",
       "<table border=\"1\" class=\"dataframe\">\n",
       "  <thead>\n",
       "    <tr style=\"text-align: right;\">\n",
       "      <th></th>\n",
       "      <th>Location</th>\n",
       "      <th>job_titles1</th>\n",
       "      <th>Level</th>\n",
       "      <th>YearsOfExperience</th>\n",
       "      <th>year</th>\n",
       "      <th>StandardJobTitle</th>\n",
       "    </tr>\n",
       "  </thead>\n",
       "  <tbody>\n",
       "    <tr>\n",
       "      <th>1</th>\n",
       "      <td>Cairo</td>\n",
       "      <td>German Training Coordinator</td>\n",
       "      <td>Entry Level</td>\n",
       "      <td>0</td>\n",
       "      <td>2014</td>\n",
       "      <td>Software Engneering</td>\n",
       "    </tr>\n",
       "    <tr>\n",
       "      <th>2</th>\n",
       "      <td>Cairo</td>\n",
       "      <td>Junior Software Developer</td>\n",
       "      <td>Entry Level</td>\n",
       "      <td>2</td>\n",
       "      <td>2014</td>\n",
       "      <td>Software Engneering</td>\n",
       "    </tr>\n",
       "    <tr>\n",
       "      <th>3</th>\n",
       "      <td>Cairo</td>\n",
       "      <td>Application Support Engineer</td>\n",
       "      <td>Entry Level</td>\n",
       "      <td>2</td>\n",
       "      <td>2014</td>\n",
       "      <td>Software Engneering</td>\n",
       "    </tr>\n",
       "    <tr>\n",
       "      <th>4</th>\n",
       "      <td>Alexandria</td>\n",
       "      <td>Electrical Maintenance Engineer</td>\n",
       "      <td>Experienced (Non-Manager)</td>\n",
       "      <td>3</td>\n",
       "      <td>2014</td>\n",
       "      <td>Software Engneering</td>\n",
       "    </tr>\n",
       "    <tr>\n",
       "      <th>5</th>\n",
       "      <td>Cairo</td>\n",
       "      <td>IT Adminstrator</td>\n",
       "      <td>Manager</td>\n",
       "      <td>5</td>\n",
       "      <td>2014</td>\n",
       "      <td>IT Category</td>\n",
       "    </tr>\n",
       "  </tbody>\n",
       "</table>\n",
       "</div>"
      ],
      "text/plain": [
       "     Location                      job_titles1                      Level  \\\n",
       "1       Cairo     German Training Coordinator                 Entry Level   \n",
       "2       Cairo       Junior Software Developer                 Entry Level   \n",
       "3       Cairo     Application Support Engineer                Entry Level   \n",
       "4  Alexandria  Electrical Maintenance Engineer  Experienced (Non-Manager)   \n",
       "5       Cairo                  IT Adminstrator                    Manager   \n",
       "\n",
       "  YearsOfExperience  year      StandardJobTitle  \n",
       "1                 0  2014  Software Engneering   \n",
       "2                 2  2014  Software Engneering   \n",
       "3                 2  2014  Software Engneering   \n",
       "4                 3  2014  Software Engneering   \n",
       "5                 5  2014           IT Category  "
      ]
     },
     "execution_count": 122,
     "metadata": {},
     "output_type": "execute_result"
    }
   ],
   "source": [
    "asd.head(5)"
   ]
  },
  {
   "cell_type": "code",
   "execution_count": 123,
   "metadata": {},
   "outputs": [
    {
     "data": {
      "text/html": [
       "<div>\n",
       "<style scoped>\n",
       "    .dataframe tbody tr th:only-of-type {\n",
       "        vertical-align: middle;\n",
       "    }\n",
       "\n",
       "    .dataframe tbody tr th {\n",
       "        vertical-align: top;\n",
       "    }\n",
       "\n",
       "    .dataframe thead th {\n",
       "        text-align: right;\n",
       "    }\n",
       "</style>\n",
       "<table border=\"1\" class=\"dataframe\">\n",
       "  <thead>\n",
       "    <tr style=\"text-align: right;\">\n",
       "      <th></th>\n",
       "      <th>job_titles1</th>\n",
       "      <th>year</th>\n",
       "      <th>Location</th>\n",
       "      <th>Level</th>\n",
       "      <th>StandardJobTitle</th>\n",
       "      <th>YearsOfExperience</th>\n",
       "    </tr>\n",
       "  </thead>\n",
       "  <tbody>\n",
       "    <tr>\n",
       "      <th>0</th>\n",
       "      <td>Business Development Specialist - Upper Egypt</td>\n",
       "      <td>2021</td>\n",
       "      <td>- Aswan Egypt</td>\n",
       "      <td>Experienced</td>\n",
       "      <td>Software Engneering</td>\n",
       "      <td>2</td>\n",
       "    </tr>\n",
       "    <tr>\n",
       "      <th>1</th>\n",
       "      <td>Senior/Intermediate .NET Core Developer (Remo...</td>\n",
       "      <td>2021</td>\n",
       "      <td>- Cairo Egypt</td>\n",
       "      <td>Experienced</td>\n",
       "      <td>Software Engneering</td>\n",
       "      <td>4</td>\n",
       "    </tr>\n",
       "    <tr>\n",
       "      <th>2</th>\n",
       "      <td>Senior Software Developer</td>\n",
       "      <td>2021</td>\n",
       "      <td>- New Cairo Cairo</td>\n",
       "      <td>Experienced</td>\n",
       "      <td>Software Engneering</td>\n",
       "      <td>6</td>\n",
       "    </tr>\n",
       "    <tr>\n",
       "      <th>3</th>\n",
       "      <td>Software Developer / Desktop Development</td>\n",
       "      <td>2021</td>\n",
       "      <td>- Nasr City Cairo</td>\n",
       "      <td>Entry Level</td>\n",
       "      <td>Software Engneering</td>\n",
       "      <td>0</td>\n",
       "    </tr>\n",
       "    <tr>\n",
       "      <th>4</th>\n",
       "      <td>Senior Software Developer -Dynamics 365...</td>\n",
       "      <td>2021</td>\n",
       "      <td>- New Cairo Cairo</td>\n",
       "      <td>Experienced</td>\n",
       "      <td>Software Engneering</td>\n",
       "      <td>4</td>\n",
       "    </tr>\n",
       "  </tbody>\n",
       "</table>\n",
       "</div>"
      ],
      "text/plain": [
       "                                         job_titles1   year  \\\n",
       "0      Business Development Specialist - Upper Egypt   2021   \n",
       "1   Senior/Intermediate .NET Core Developer (Remo...   2021   \n",
       "2                          Senior Software Developer   2021   \n",
       "3           Software Developer / Desktop Development   2021   \n",
       "4         Senior Software Developer -Dynamics 365...   2021   \n",
       "\n",
       "             Location        Level      StandardJobTitle YearsOfExperience  \n",
       "0       - Aswan Egypt  Experienced  Software Engneering                  2  \n",
       "1       - Cairo Egypt  Experienced  Software Engneering                  4  \n",
       "2   - New Cairo Cairo  Experienced  Software Engneering                  6  \n",
       "3   - Nasr City Cairo  Entry Level  Software Engneering                  0  \n",
       "4   - New Cairo Cairo  Experienced  Software Engneering                  4  "
      ]
     },
     "execution_count": 123,
     "metadata": {},
     "output_type": "execute_result"
    }
   ],
   "source": [
    "df.head(5)"
   ]
  },
  {
   "cell_type": "markdown",
   "metadata": {},
   "source": [
    "# here i would merge the 3 data sets"
   ]
  },
  {
   "cell_type": "code",
   "execution_count": 124,
   "metadata": {},
   "outputs": [],
   "source": [
    "h=pd.concat([df, asd], axis=0)"
   ]
  },
  {
   "cell_type": "markdown",
   "metadata": {},
   "source": [
    "# the merge succed there isnt any null values"
   ]
  },
  {
   "cell_type": "code",
   "execution_count": 125,
   "metadata": {},
   "outputs": [
    {
     "name": "stdout",
     "output_type": "stream",
     "text": [
      "<class 'pandas.core.frame.DataFrame'>\n",
      "Int64Index: 19689 entries, 0 to 21921\n",
      "Data columns (total 6 columns):\n",
      " #   Column             Non-Null Count  Dtype \n",
      "---  ------             --------------  ----- \n",
      " 0   job_titles1        19689 non-null  object\n",
      " 1   year               19689 non-null  object\n",
      " 2   Location           19689 non-null  object\n",
      " 3   Level              19689 non-null  object\n",
      " 4   StandardJobTitle   19689 non-null  object\n",
      " 5   YearsOfExperience  19689 non-null  object\n",
      "dtypes: object(6)\n",
      "memory usage: 1.1+ MB\n"
     ]
    }
   ],
   "source": [
    "h.info()"
   ]
  },
  {
   "cell_type": "code",
   "execution_count": 126,
   "metadata": {},
   "outputs": [
    {
     "data": {
      "text/html": [
       "<div>\n",
       "<style scoped>\n",
       "    .dataframe tbody tr th:only-of-type {\n",
       "        vertical-align: middle;\n",
       "    }\n",
       "\n",
       "    .dataframe tbody tr th {\n",
       "        vertical-align: top;\n",
       "    }\n",
       "\n",
       "    .dataframe thead th {\n",
       "        text-align: right;\n",
       "    }\n",
       "</style>\n",
       "<table border=\"1\" class=\"dataframe\">\n",
       "  <thead>\n",
       "    <tr style=\"text-align: right;\">\n",
       "      <th></th>\n",
       "      <th>job_titles1</th>\n",
       "      <th>year</th>\n",
       "      <th>Location</th>\n",
       "      <th>Level</th>\n",
       "      <th>StandardJobTitle</th>\n",
       "      <th>YearsOfExperience</th>\n",
       "    </tr>\n",
       "  </thead>\n",
       "  <tbody>\n",
       "    <tr>\n",
       "      <th>0</th>\n",
       "      <td>Business Development Specialist - Upper Egypt</td>\n",
       "      <td>2021</td>\n",
       "      <td>- Aswan Egypt</td>\n",
       "      <td>Experienced</td>\n",
       "      <td>Software Engneering</td>\n",
       "      <td>2</td>\n",
       "    </tr>\n",
       "    <tr>\n",
       "      <th>1</th>\n",
       "      <td>Senior/Intermediate .NET Core Developer (Remo...</td>\n",
       "      <td>2021</td>\n",
       "      <td>- Cairo Egypt</td>\n",
       "      <td>Experienced</td>\n",
       "      <td>Software Engneering</td>\n",
       "      <td>4</td>\n",
       "    </tr>\n",
       "    <tr>\n",
       "      <th>2</th>\n",
       "      <td>Senior Software Developer</td>\n",
       "      <td>2021</td>\n",
       "      <td>- New Cairo Cairo</td>\n",
       "      <td>Experienced</td>\n",
       "      <td>Software Engneering</td>\n",
       "      <td>6</td>\n",
       "    </tr>\n",
       "    <tr>\n",
       "      <th>3</th>\n",
       "      <td>Software Developer / Desktop Development</td>\n",
       "      <td>2021</td>\n",
       "      <td>- Nasr City Cairo</td>\n",
       "      <td>Entry Level</td>\n",
       "      <td>Software Engneering</td>\n",
       "      <td>0</td>\n",
       "    </tr>\n",
       "    <tr>\n",
       "      <th>4</th>\n",
       "      <td>Senior Software Developer -Dynamics 365...</td>\n",
       "      <td>2021</td>\n",
       "      <td>- New Cairo Cairo</td>\n",
       "      <td>Experienced</td>\n",
       "      <td>Software Engneering</td>\n",
       "      <td>4</td>\n",
       "    </tr>\n",
       "    <tr>\n",
       "      <th>5</th>\n",
       "      <td>Senior Software Developer - Java</td>\n",
       "      <td>2021</td>\n",
       "      <td>- New Cairo Cairo</td>\n",
       "      <td>Experienced</td>\n",
       "      <td>Software Engneering</td>\n",
       "      <td>4</td>\n",
       "    </tr>\n",
       "    <tr>\n",
       "      <th>6</th>\n",
       "      <td>Vodafone Egypt Customer Care Advisor</td>\n",
       "      <td>2021</td>\n",
       "      <td>- Maadi Cairo</td>\n",
       "      <td>Entry Level</td>\n",
       "      <td>Software Engneering</td>\n",
       "      <td>0</td>\n",
       "    </tr>\n",
       "    <tr>\n",
       "      <th>7</th>\n",
       "      <td>Software Developer - As/400 Developer</td>\n",
       "      <td>2021</td>\n",
       "      <td>- Cairo Egypt</td>\n",
       "      <td>Experienced</td>\n",
       "      <td>Software Engneering</td>\n",
       "      <td>5</td>\n",
       "    </tr>\n",
       "    <tr>\n",
       "      <th>8</th>\n",
       "      <td>IT Developer</td>\n",
       "      <td>2021</td>\n",
       "      <td>- New Cairo Cairo</td>\n",
       "      <td>Experienced</td>\n",
       "      <td>IT Category</td>\n",
       "      <td>2</td>\n",
       "    </tr>\n",
       "    <tr>\n",
       "      <th>9</th>\n",
       "      <td>Software Developer (AWS Serverless Experience)</td>\n",
       "      <td>- Maadi</td>\n",
       "      <td>un known</td>\n",
       "      <td>Entry Level</td>\n",
       "      <td>Software Engneering</td>\n",
       "      <td>1</td>\n",
       "    </tr>\n",
       "  </tbody>\n",
       "</table>\n",
       "</div>"
      ],
      "text/plain": [
       "                                         job_titles1      year  \\\n",
       "0      Business Development Specialist - Upper Egypt      2021   \n",
       "1   Senior/Intermediate .NET Core Developer (Remo...      2021   \n",
       "2                          Senior Software Developer      2021   \n",
       "3           Software Developer / Desktop Development      2021   \n",
       "4         Senior Software Developer -Dynamics 365...      2021   \n",
       "5                   Senior Software Developer - Java      2021   \n",
       "6               Vodafone Egypt Customer Care Advisor      2021   \n",
       "7              Software Developer - As/400 Developer      2021   \n",
       "8                                       IT Developer      2021   \n",
       "9     Software Developer (AWS Serverless Experience)   - Maadi   \n",
       "\n",
       "             Location        Level      StandardJobTitle YearsOfExperience  \n",
       "0       - Aswan Egypt  Experienced  Software Engneering                  2  \n",
       "1       - Cairo Egypt  Experienced  Software Engneering                  4  \n",
       "2   - New Cairo Cairo  Experienced  Software Engneering                  6  \n",
       "3   - Nasr City Cairo  Entry Level  Software Engneering                  0  \n",
       "4   - New Cairo Cairo  Experienced  Software Engneering                  4  \n",
       "5   - New Cairo Cairo  Experienced  Software Engneering                  4  \n",
       "6       - Maadi Cairo  Entry Level  Software Engneering                  0  \n",
       "7       - Cairo Egypt  Experienced  Software Engneering                  5  \n",
       "8   - New Cairo Cairo  Experienced           IT Category                 2  \n",
       "9            un known  Entry Level  Software Engneering                  1  "
      ]
     },
     "execution_count": 126,
     "metadata": {},
     "output_type": "execute_result"
    }
   ],
   "source": [
    "h.head(10)"
   ]
  },
  {
   "cell_type": "markdown",
   "metadata": {},
   "source": [
    "# i would make a copy of the final file"
   ]
  },
  {
   "cell_type": "code",
   "execution_count": 127,
   "metadata": {},
   "outputs": [],
   "source": [
    "final=h.copy()\n"
   ]
  },
  {
   "cell_type": "code",
   "execution_count": 128,
   "metadata": {},
   "outputs": [
    {
     "name": "stdout",
     "output_type": "stream",
     "text": [
      "<class 'pandas.core.frame.DataFrame'>\n",
      "Int64Index: 19689 entries, 0 to 21921\n",
      "Data columns (total 6 columns):\n",
      " #   Column             Non-Null Count  Dtype \n",
      "---  ------             --------------  ----- \n",
      " 0   job_titles1        19689 non-null  object\n",
      " 1   year               19689 non-null  object\n",
      " 2   Location           19689 non-null  object\n",
      " 3   Level              19689 non-null  object\n",
      " 4   StandardJobTitle   19689 non-null  object\n",
      " 5   YearsOfExperience  19689 non-null  object\n",
      "dtypes: object(6)\n",
      "memory usage: 1.1+ MB\n"
     ]
    }
   ],
   "source": [
    "final.info()"
   ]
  },
  {
   "cell_type": "code",
   "execution_count": 129,
   "metadata": {},
   "outputs": [],
   "source": [
    "final.to_csv(\"wuzzafCleaned2021.csv\", index = False)"
   ]
  },
  {
   "cell_type": "markdown",
   "metadata": {},
   "source": [
    "# the level value coutnts"
   ]
  },
  {
   "cell_type": "code",
   "execution_count": 130,
   "metadata": {},
   "outputs": [
    {
     "data": {
      "text/plain": [
       "Experienced (Non-Manager)           9598\n",
       "Entry Level                         4599\n",
       "Experienced                         3328\n",
       "Manager                             1980\n",
       "Student                              129\n",
       "Senior Management (e.g. VP, CEO)      55\n",
       "Name: Level, dtype: int64"
      ]
     },
     "execution_count": 130,
     "metadata": {},
     "output_type": "execute_result"
    }
   ],
   "source": [
    "final.Level.value_counts()\n"
   ]
  },
  {
   "cell_type": "markdown",
   "metadata": {},
   "source": [
    "# i do visualization on levels and  find that the most job at last 5 years required  Experienced (Non-Manager)persons"
   ]
  },
  {
   "cell_type": "code",
   "execution_count": 131,
   "metadata": {},
   "outputs": [
    {
     "data": {
      "image/png": "[encoded data removed]",
      "text/plain": [
       "<Figure size 432x288 with 1 Axes>"
      ]
     },
     "metadata": {
      "needs_background": "light"
     },
     "output_type": "display_data"
    }
   ],
   "source": [
    "total = 2580\n",
    "langs = ['Experienced (Non-Manager)','Entry Level', 'Experrienced', 'Manager']\n",
    "langs_users_num = np.array([9598,4599, 3328, 1980])\n",
    "percent = langs_users_num/total*100\n",
    "new_labels = [i+'  {:.2f}%'.format(j) for i, j in zip(langs, percent)]\n",
    "plt.barh(langs, langs_users_num, color='lightskyblue', edgecolor='blue' )\n",
    "plt.yticks(range(len(langs)), new_labels)\n",
    "plt.show()"
   ]
  },
  {
   "cell_type": "markdown",
   "metadata": {},
   "source": [
    "# i do visualization on the most job category  available in 2020/2021 and result show that software engineering better one"
   ]
  },
  {
   "cell_type": "code",
   "execution_count": 132,
   "metadata": {},
   "outputs": [
    {
     "data": {
      "text/plain": [
       "<AxesSubplot:title={'center':' Most Job category in 2020/2021 '}>"
      ]
     },
     "execution_count": 132,
     "metadata": {},
     "output_type": "execute_result"
    },
    {
     "data": {
      "image/png": "[encoded data removed]",
      "text/plain": [
       "<Figure size 432x288 with 1 Axes>"
      ]
     },
     "metadata": {
      "needs_background": "light"
     },
     "output_type": "display_data"
    }
   ],
   "source": [
    "StandardJobTitle = df['StandardJobTitle'].value_counts()[:2]\n",
    "StandardJobTitle.plot(kind = 'barh',color = \"yellow\",title=' Most Job category in 2020/2021 ')"
   ]
  },
  {
   "cell_type": "markdown",
   "metadata": {},
   "source": [
    "# i do visualization on the most job category  available in 2014/2016 and result show that software engineering better one"
   ]
  },
  {
   "cell_type": "code",
   "execution_count": 133,
   "metadata": {},
   "outputs": [
    {
     "data": {
      "text/plain": [
       "<AxesSubplot:title={'center':' Most Job category in 2014/2016 '}>"
      ]
     },
     "execution_count": 133,
     "metadata": {},
     "output_type": "execute_result"
    },
    {
     "data": {
      "image/png": "[encoded data removed]",
      "text/plain": [
       "<Figure size 432x288 with 1 Axes>"
      ]
     },
     "metadata": {
      "needs_background": "light"
     },
     "output_type": "display_data"
    }
   ],
   "source": [
    "StandardJobTitle = asd['StandardJobTitle'].value_counts()[:2]\n",
    "StandardJobTitle.plot(kind = 'barh',color = \"green\",title=' Most Job category in 2014/2016 ')"
   ]
  },
  {
   "cell_type": "markdown",
   "metadata": {},
   "source": [
    "# i do visualization on the most job category available in the last 5 years and result show that software engineering better one"
   ]
  },
  {
   "cell_type": "code",
   "execution_count": 134,
   "metadata": {
    "scrolled": true
   },
   "outputs": [
    {
     "data": {
      "text/plain": [
       "<AxesSubplot:title={'center':' Most Job category in the last 5 years '}>"
      ]
     },
     "execution_count": 134,
     "metadata": {},
     "output_type": "execute_result"
    },
    {
     "data": {
      "image/png": "[encoded data removed]",
      "text/plain": [
       "<Figure size 432x288 with 1 Axes>"
      ]
     },
     "metadata": {
      "needs_background": "light"
     },
     "output_type": "display_data"
    }
   ],
   "source": [
    "StandardJobTitle = final['StandardJobTitle'].value_counts()[:2]\n",
    "StandardJobTitle.plot(kind = 'barh',color = \"red\",title=' Most Job category in the last 5 years ')"
   ]
  },
  {
   "cell_type": "markdown",
   "metadata": {},
   "source": [
    "# location value counts"
   ]
  },
  {
   "cell_type": "code",
   "execution_count": 135,
   "metadata": {},
   "outputs": [
    {
     "data": {
      "text/plain": [
       "Cairo                               9909\n",
       "Giza                                2567\n",
       "Alexandria                           712\n",
       "Maadi, Cairo                         440\n",
       " - Cairo Egypt                       436\n",
       "                                    ... \n",
       " - Krakow Poland                       1\n",
       "EL Sharkyia                            1\n",
       "EL Minia                               1\n",
       "Cairo, Alex, Delta, Upper, Egypt       1\n",
       "6 october city                         1\n",
       "Name: Location, Length: 576, dtype: int64"
      ]
     },
     "execution_count": 135,
     "metadata": {},
     "output_type": "execute_result"
    }
   ],
   "source": [
    "final.Location.value_counts()"
   ]
  },
  {
   "cell_type": "markdown",
   "metadata": {},
   "source": [
    "# i do visualization on most of the jobs in the governorates of Egypt and Cairo is the most governorate contain jobs"
   ]
  },
  {
   "cell_type": "code",
   "execution_count": 136,
   "metadata": {},
   "outputs": [
    {
     "data": {
      "text/plain": [
       "<AxesSubplot:title={'center':'The most jobs are located in the governorates of Egypt'}>"
      ]
     },
     "execution_count": 136,
     "metadata": {},
     "output_type": "execute_result"
    },
    {
     "data": {
      "image/png": "[encoded data removed]",
      "text/plain": [
       "<Figure size 432x288 with 1 Axes>"
      ]
     },
     "metadata": {
      "needs_background": "light"
     },
     "output_type": "display_data"
    }
   ],
   "source": [
    "location = final['Location'].value_counts()[:8]\n",
    "location.plot(kind = 'barh',color = \"purple\",title='The most jobs are located in the governorates of Egypt')"
   ]
  },
  {
   "cell_type": "markdown",
   "metadata": {},
   "source": [
    "# i do visualization on Number of jobs available in the 5 last years and 2015 was most one "
   ]
  },
  {
   "cell_type": "code",
   "execution_count": 137,
   "metadata": {},
   "outputs": [
    {
     "data": {
      "text/plain": [
       "<AxesSubplot:title={'center':'Number of jobs available in the 5 last years'}>"
      ]
     },
     "execution_count": 137,
     "metadata": {},
     "output_type": "execute_result"
    },
    {
     "data": {
      "image/png": "[encoded data removed]",
      "text/plain": [
       "<Figure size 432x288 with 1 Axes>"
      ]
     },
     "metadata": {
      "needs_background": "light"
     },
     "output_type": "display_data"
    }
   ],
   "source": [
    "YEARS = final['year'].value_counts()[:5]\n",
    "YEARS.plot(kind = 'barh',color = \"green\",title='Number of jobs available in the 5 last years')"
   ]
  },
  {
   "cell_type": "markdown",
   "metadata": {},
   "source": [
    "# i do visualization on number of years experience to work at jobs in last 5 years"
   ]
  },
  {
   "cell_type": "code",
   "execution_count": 138,
   "metadata": {},
   "outputs": [
    {
     "data": {
      "text/plain": [
       "<AxesSubplot:title={'center':'YEARS OF EXPERIENCE'}>"
      ]
     },
     "execution_count": 138,
     "metadata": {},
     "output_type": "execute_result"
    },
    {
     "data": {
      "image/png": "[encoded data removed]",
      "text/plain": [
       "<Figure size 432x288 with 1 Axes>"
      ]
     },
     "metadata": {
      "needs_background": "light"
     },
     "output_type": "display_data"
    }
   ],
   "source": [
    "YEARSD = final['YearsOfExperience'].value_counts()[:6]\n",
    "YEARSD.plot(kind = 'barh',color = \"red\",title='YEARS OF EXPERIENCE')"
   ]
  },
  {
   "cell_type": "markdown",
   "metadata": {},
   "source": [
    "# i do visualization on the most 10 title jobs available in the last 5 years"
   ]
  },
  {
   "cell_type": "code",
   "execution_count": 139,
   "metadata": {},
   "outputs": [
    {
     "data": {
      "text/plain": [
       "<AxesSubplot:title={'center':'Most 10 offers during the last 5 years '}>"
      ]
     },
     "execution_count": 139,
     "metadata": {},
     "output_type": "execute_result"
    },
    {
     "data": {
      "image/png": "[encoded data removed]",
      "text/plain": [
       "<Figure size 432x288 with 1 Axes>"
      ]
     },
     "metadata": {
      "needs_background": "light"
     },
     "output_type": "display_data"
    }
   ],
   "source": [
    "title = final['job_titles1'].value_counts()[:10]\n",
    "title.plot(kind='barh',color = \"yellow\",title='Most 10 offers during the last 5 years ') "
   ]
  },
  {
   "cell_type": "markdown",
   "metadata": {},
   "source": [
    "# Finally I finished the project and I hope I have fulfilled all the requirements accurately"
   ]
  }
 ],
 "metadata": {
  "kernelspec": {
   "display_name": "Python 3",
   "language": "python",
   "name": "python3"
  },
  "language_info": {
   "codemirror_mode": {
    "name": "ipython",
    "version": 3
   },
   "file_extension": ".py",
   "mimetype": "text/x-python",
   "name": "python",
   "nbconvert_exporter": "python",
   "pygments_lexer": "ipython3",
   "version": "3.8.5"
  }
 },
 "nbformat": 4,
 "nbformat_minor": 4
}
